{
  "nbformat": 4,
  "nbformat_minor": 0,
  "metadata": {
    "colab": {
      "name": "SE_Final_Project.ipynb",
      "provenance": [],
      "collapsed_sections": []
    },
    "kernelspec": {
      "display_name": "Python 3",
      "name": "python3"
    },
    "language_info": {
      "name": "python"
    }
  },
  "cells": [
    {
      "cell_type": "code",
      "metadata": {
        "id": "MZI1r8oeq8Jc"
      },
      "source": [
        "import numpy as np\n",
        "import pandas as pd\n",
        "import numpy as np\n",
        "from lxml import etree\n",
        "import time\n",
        "import os\n",
        "import csv\n",
        "from nltk.probability import FreqDist\n",
        "import matplotlib.pyplot as plt"
      ],
      "execution_count": 20,
      "outputs": []
    },
    {
      "cell_type": "code",
      "metadata": {
        "colab": {
          "base_uri": "https://localhost:8080/"
        },
        "id": "gGHW8mVDrKq9",
        "outputId": "c0f273b4-1bfb-4284-e4bf-efa95635dbf7"
      },
      "source": [
        "from google.colab import drive\n",
        "drive.mount('/content/gdrive')"
      ],
      "execution_count": 21,
      "outputs": [
        {
          "output_type": "stream",
          "text": [
            "Drive already mounted at /content/gdrive; to attempt to forcibly remount, call drive.mount(\"/content/gdrive\", force_remount=True).\n"
          ],
          "name": "stdout"
        }
      ]
    },
    {
      "cell_type": "code",
      "metadata": {
        "id": "BFxJ0Hw4TSQC"
      },
      "source": [
        "df = pd.read_csv('/content/gdrive/MyDrive/SE/final_value.csv')"
      ],
      "execution_count": 22,
      "outputs": []
    },
    {
      "cell_type": "markdown",
      "metadata": {
        "id": "0ekTM9xTeOkE"
      },
      "source": [
        "#Converting postlink xml file to csv file"
      ]
    },
    {
      "cell_type": "code",
      "metadata": {
        "id": "aYpmkRtQrrn-"
      },
      "source": [
        "\n",
        "obsolete_values = []\n",
        "path = \"/content/gdrive/MyDrive/SE/\" \n",
        "start_time = time.time()\n",
        "i = 0\n",
        "count = 0 \n",
        "for event,elem in etree.iterparse(path+os.path.sep+\"PostLinks.xml\", events=(\"start\",\"end\",\"start-ns\",\"end-ns\")):\n",
        "      \n",
        "          val = str(elem.attrib)        \n",
        "      \n",
        "          final_val = val.replace('{','').replace(\"'Id'\",\"\").replace('}','').replace('\"','').replace(':','').replace('PostId','').replace('CreationDate','').replace('Related','').replace('LinkTypeId','').replace(\"'\",\"\")              \n",
        "          print(val)\n",
        "          # print(final_val)\n",
        "          if(final_val != ''):           \n",
        "            obsolete_values.append([final_val])\n",
        "        \n",
        "          count +=1\n",
        "          if(count%1000000==0):\n",
        "            print(\"Progress \"+str(count))\n",
        "                                               \n",
        "          elem.clear()\n",
        "\n",
        "print(\"%s seconds \" % (time.time() - start_time))"
      ],
      "execution_count": null,
      "outputs": []
    },
    {
      "cell_type": "code",
      "metadata": {
        "colab": {
          "base_uri": "https://localhost:8080/"
        },
        "id": "AY7xo9JNCihA",
        "outputId": "725ec419-00df-4e5b-e540-2d970fe143ff"
      },
      "source": [
        "df = pd.DataFrame(obsolete_values)\n",
        "print(df)\n",
        "len(df)"
      ],
      "execution_count": null,
      "outputs": [
        {
          "name": "stdout",
          "output_type": "stream",
          "text": [
            "                                                         0\n",
            "0             19,  2010-04-26T025948.130,  109,  32412,  1\n",
            "1           37,  2010-04-26T025948.600,  1970,  617600,  1\n",
            "2          42,  2010-04-26T025948.647,  2154,  2451138,  1\n",
            "3           52,  2010-04-26T025948.757,  2572,  209329,  1\n",
            "4             58,  2010-04-26T025948.943,  3376,  2187,  1\n",
            "...                                                    ...\n",
            "7499398   1905114887,  2021-05-30T103716.700,  52884084...\n",
            "7499399   1905116424,  2021-05-30T103908.637,  67758895...\n",
            "7499400   1905116539,  2021-05-30T103920.487,  67758176...\n",
            "7499401   1905116642,  2021-05-30T103930.553,  67760186...\n",
            "7499402   1905116643,  2021-05-30T103930.553,  67760186...\n",
            "\n",
            "[7499403 rows x 1 columns]\n"
          ]
        },
        {
          "data": {
            "text/plain": [
              "7499403"
            ]
          },
          "execution_count": 9,
          "metadata": {
            "tags": []
          },
          "output_type": "execute_result"
        }
      ]
    },
    {
      "cell_type": "markdown",
      "metadata": {
        "id": "BEDPjAeypQRg"
      },
      "source": [
        "#Split the columns"
      ]
    },
    {
      "cell_type": "code",
      "metadata": {
        "colab": {
          "base_uri": "https://localhost:8080/",
          "height": 417
        },
        "id": "u02Gp1YCDfbV",
        "outputId": "8fabfa8e-8eca-42fa-d763-98c54a9c852c"
      },
      "source": [
        "new =  df[0].str.split(\",  \", n = 4, expand = True)\n",
        "new"
      ],
      "execution_count": null,
      "outputs": [
        {
          "data": {
            "text/html": [
              "<div>\n",
              "<style scoped>\n",
              "    .dataframe tbody tr th:only-of-type {\n",
              "        vertical-align: middle;\n",
              "    }\n",
              "\n",
              "    .dataframe tbody tr th {\n",
              "        vertical-align: top;\n",
              "    }\n",
              "\n",
              "    .dataframe thead th {\n",
              "        text-align: right;\n",
              "    }\n",
              "</style>\n",
              "<table border=\"1\" class=\"dataframe\">\n",
              "  <thead>\n",
              "    <tr style=\"text-align: right;\">\n",
              "      <th></th>\n",
              "      <th>0</th>\n",
              "      <th>1</th>\n",
              "      <th>2</th>\n",
              "      <th>3</th>\n",
              "      <th>4</th>\n",
              "    </tr>\n",
              "  </thead>\n",
              "  <tbody>\n",
              "    <tr>\n",
              "      <th>0</th>\n",
              "      <td>19</td>\n",
              "      <td>2010-04-26T025948.130</td>\n",
              "      <td>109</td>\n",
              "      <td>32412</td>\n",
              "      <td>1</td>\n",
              "    </tr>\n",
              "    <tr>\n",
              "      <th>1</th>\n",
              "      <td>37</td>\n",
              "      <td>2010-04-26T025948.600</td>\n",
              "      <td>1970</td>\n",
              "      <td>617600</td>\n",
              "      <td>1</td>\n",
              "    </tr>\n",
              "    <tr>\n",
              "      <th>2</th>\n",
              "      <td>42</td>\n",
              "      <td>2010-04-26T025948.647</td>\n",
              "      <td>2154</td>\n",
              "      <td>2451138</td>\n",
              "      <td>1</td>\n",
              "    </tr>\n",
              "    <tr>\n",
              "      <th>3</th>\n",
              "      <td>52</td>\n",
              "      <td>2010-04-26T025948.757</td>\n",
              "      <td>2572</td>\n",
              "      <td>209329</td>\n",
              "      <td>1</td>\n",
              "    </tr>\n",
              "    <tr>\n",
              "      <th>4</th>\n",
              "      <td>58</td>\n",
              "      <td>2010-04-26T025948.943</td>\n",
              "      <td>3376</td>\n",
              "      <td>2187</td>\n",
              "      <td>1</td>\n",
              "    </tr>\n",
              "    <tr>\n",
              "      <th>...</th>\n",
              "      <td>...</td>\n",
              "      <td>...</td>\n",
              "      <td>...</td>\n",
              "      <td>...</td>\n",
              "      <td>...</td>\n",
              "    </tr>\n",
              "    <tr>\n",
              "      <th>7499398</th>\n",
              "      <td>1905114887</td>\n",
              "      <td>2021-05-30T103716.700</td>\n",
              "      <td>52884084</td>\n",
              "      <td>67759635</td>\n",
              "      <td>1</td>\n",
              "    </tr>\n",
              "    <tr>\n",
              "      <th>7499399</th>\n",
              "      <td>1905116424</td>\n",
              "      <td>2021-05-30T103908.637</td>\n",
              "      <td>67758895</td>\n",
              "      <td>5963269</td>\n",
              "      <td>1</td>\n",
              "    </tr>\n",
              "    <tr>\n",
              "      <th>7499400</th>\n",
              "      <td>1905116539</td>\n",
              "      <td>2021-05-30T103920.487</td>\n",
              "      <td>67758176</td>\n",
              "      <td>48957195</td>\n",
              "      <td>3</td>\n",
              "    </tr>\n",
              "    <tr>\n",
              "      <th>7499401</th>\n",
              "      <td>1905116642</td>\n",
              "      <td>2021-05-30T103930.553</td>\n",
              "      <td>67760186</td>\n",
              "      <td>31674530</td>\n",
              "      <td>1</td>\n",
              "    </tr>\n",
              "    <tr>\n",
              "      <th>7499402</th>\n",
              "      <td>1905116643</td>\n",
              "      <td>2021-05-30T103930.553</td>\n",
              "      <td>67760186</td>\n",
              "      <td>31674530</td>\n",
              "      <td>3</td>\n",
              "    </tr>\n",
              "  </tbody>\n",
              "</table>\n",
              "<p>7499403 rows × 5 columns</p>\n",
              "</div>"
            ],
            "text/plain": [
              "                   0                      1         2         3  4\n",
              "0                 19  2010-04-26T025948.130       109     32412  1\n",
              "1                 37  2010-04-26T025948.600      1970    617600  1\n",
              "2                 42  2010-04-26T025948.647      2154   2451138  1\n",
              "3                 52  2010-04-26T025948.757      2572    209329  1\n",
              "4                 58  2010-04-26T025948.943      3376      2187  1\n",
              "...              ...                    ...       ...       ... ..\n",
              "7499398   1905114887  2021-05-30T103716.700  52884084  67759635  1\n",
              "7499399   1905116424  2021-05-30T103908.637  67758895   5963269  1\n",
              "7499400   1905116539  2021-05-30T103920.487  67758176  48957195  3\n",
              "7499401   1905116642  2021-05-30T103930.553  67760186  31674530  1\n",
              "7499402   1905116643  2021-05-30T103930.553  67760186  31674530  3\n",
              "\n",
              "[7499403 rows x 5 columns]"
            ]
          },
          "execution_count": 10,
          "metadata": {
            "tags": []
          },
          "output_type": "execute_result"
        }
      ]
    },
    {
      "cell_type": "markdown",
      "metadata": {
        "id": "rrr25FZ8UH3J"
      },
      "source": [
        "{'Id': '5900', 'CreationDate': '2010-04-26T03:02:11.823', 'PostId': '285126', 'RelatedPostId': '171717', 'LinkTypeId': '1'}"
      ]
    },
    {
      "cell_type": "code",
      "metadata": {
        "id": "XttGLlIPNtHI"
      },
      "source": [
        "new.to_csv('/content/gdrive/MyDrive/SE/postlink.csv',header = ['Id', 'CreationDate', 'PostId','RelatedPostId','LinkTypeId'])"
      ],
      "execution_count": null,
      "outputs": []
    },
    {
      "cell_type": "code",
      "metadata": {
        "id": "oIGVReFIVkqy"
      },
      "source": [
        "df = pd.read_csv('/content/gdrive/MyDrive/SE/postlink.csv')"
      ],
      "execution_count": null,
      "outputs": []
    },
    {
      "cell_type": "code",
      "metadata": {
        "colab": {
          "base_uri": "https://localhost:8080/",
          "height": 417
        },
        "id": "ZvIGDmAjV_cP",
        "outputId": "752af3c6-2e57-406d-9899-cf181a974e66"
      },
      "source": [
        "df"
      ],
      "execution_count": null,
      "outputs": [
        {
          "data": {
            "text/html": [
              "<div>\n",
              "<style scoped>\n",
              "    .dataframe tbody tr th:only-of-type {\n",
              "        vertical-align: middle;\n",
              "    }\n",
              "\n",
              "    .dataframe tbody tr th {\n",
              "        vertical-align: top;\n",
              "    }\n",
              "\n",
              "    .dataframe thead th {\n",
              "        text-align: right;\n",
              "    }\n",
              "</style>\n",
              "<table border=\"1\" class=\"dataframe\">\n",
              "  <thead>\n",
              "    <tr style=\"text-align: right;\">\n",
              "      <th></th>\n",
              "      <th>Unnamed: 0</th>\n",
              "      <th>Id</th>\n",
              "      <th>CreationDate</th>\n",
              "      <th>PostId</th>\n",
              "      <th>RelatedPostId</th>\n",
              "      <th>LinkTypeId</th>\n",
              "    </tr>\n",
              "  </thead>\n",
              "  <tbody>\n",
              "    <tr>\n",
              "      <th>0</th>\n",
              "      <td>0</td>\n",
              "      <td>19</td>\n",
              "      <td>2010-04-26T025948.130</td>\n",
              "      <td>109</td>\n",
              "      <td>32412</td>\n",
              "      <td>1</td>\n",
              "    </tr>\n",
              "    <tr>\n",
              "      <th>1</th>\n",
              "      <td>1</td>\n",
              "      <td>37</td>\n",
              "      <td>2010-04-26T025948.600</td>\n",
              "      <td>1970</td>\n",
              "      <td>617600</td>\n",
              "      <td>1</td>\n",
              "    </tr>\n",
              "    <tr>\n",
              "      <th>2</th>\n",
              "      <td>2</td>\n",
              "      <td>42</td>\n",
              "      <td>2010-04-26T025948.647</td>\n",
              "      <td>2154</td>\n",
              "      <td>2451138</td>\n",
              "      <td>1</td>\n",
              "    </tr>\n",
              "    <tr>\n",
              "      <th>3</th>\n",
              "      <td>3</td>\n",
              "      <td>52</td>\n",
              "      <td>2010-04-26T025948.757</td>\n",
              "      <td>2572</td>\n",
              "      <td>209329</td>\n",
              "      <td>1</td>\n",
              "    </tr>\n",
              "    <tr>\n",
              "      <th>4</th>\n",
              "      <td>4</td>\n",
              "      <td>58</td>\n",
              "      <td>2010-04-26T025948.943</td>\n",
              "      <td>3376</td>\n",
              "      <td>2187</td>\n",
              "      <td>1</td>\n",
              "    </tr>\n",
              "    <tr>\n",
              "      <th>...</th>\n",
              "      <td>...</td>\n",
              "      <td>...</td>\n",
              "      <td>...</td>\n",
              "      <td>...</td>\n",
              "      <td>...</td>\n",
              "      <td>...</td>\n",
              "    </tr>\n",
              "    <tr>\n",
              "      <th>7499398</th>\n",
              "      <td>7499398</td>\n",
              "      <td>1905114887</td>\n",
              "      <td>2021-05-30T103716.700</td>\n",
              "      <td>52884084</td>\n",
              "      <td>67759635</td>\n",
              "      <td>1</td>\n",
              "    </tr>\n",
              "    <tr>\n",
              "      <th>7499399</th>\n",
              "      <td>7499399</td>\n",
              "      <td>1905116424</td>\n",
              "      <td>2021-05-30T103908.637</td>\n",
              "      <td>67758895</td>\n",
              "      <td>5963269</td>\n",
              "      <td>1</td>\n",
              "    </tr>\n",
              "    <tr>\n",
              "      <th>7499400</th>\n",
              "      <td>7499400</td>\n",
              "      <td>1905116539</td>\n",
              "      <td>2021-05-30T103920.487</td>\n",
              "      <td>67758176</td>\n",
              "      <td>48957195</td>\n",
              "      <td>3</td>\n",
              "    </tr>\n",
              "    <tr>\n",
              "      <th>7499401</th>\n",
              "      <td>7499401</td>\n",
              "      <td>1905116642</td>\n",
              "      <td>2021-05-30T103930.553</td>\n",
              "      <td>67760186</td>\n",
              "      <td>31674530</td>\n",
              "      <td>1</td>\n",
              "    </tr>\n",
              "    <tr>\n",
              "      <th>7499402</th>\n",
              "      <td>7499402</td>\n",
              "      <td>1905116643</td>\n",
              "      <td>2021-05-30T103930.553</td>\n",
              "      <td>67760186</td>\n",
              "      <td>31674530</td>\n",
              "      <td>3</td>\n",
              "    </tr>\n",
              "  </tbody>\n",
              "</table>\n",
              "<p>7499403 rows × 6 columns</p>\n",
              "</div>"
            ],
            "text/plain": [
              "         Unnamed: 0          Id  ... RelatedPostId  LinkTypeId\n",
              "0                 0          19  ...         32412           1\n",
              "1                 1          37  ...        617600           1\n",
              "2                 2          42  ...       2451138           1\n",
              "3                 3          52  ...        209329           1\n",
              "4                 4          58  ...          2187           1\n",
              "...             ...         ...  ...           ...         ...\n",
              "7499398     7499398  1905114887  ...      67759635           1\n",
              "7499399     7499399  1905116424  ...       5963269           1\n",
              "7499400     7499400  1905116539  ...      48957195           3\n",
              "7499401     7499401  1905116642  ...      31674530           1\n",
              "7499402     7499402  1905116643  ...      31674530           3\n",
              "\n",
              "[7499403 rows x 6 columns]"
            ]
          },
          "execution_count": 4,
          "metadata": {
            "tags": []
          },
          "output_type": "execute_result"
        }
      ]
    },
    {
      "cell_type": "markdown",
      "metadata": {
        "id": "CgX6p5TnRWFf"
      },
      "source": [
        "#Getting obsolete comments by parsing line by line"
      ]
    },
    {
      "cell_type": "code",
      "metadata": {
        "colab": {
          "base_uri": "https://localhost:8080/"
        },
        "id": "SgxjpXK9w9v9",
        "outputId": "b1e85195-f0bf-49d2-9de5-00151cebda83"
      },
      "source": [
        "import pandas as pd\n",
        "import numpy as np\n",
        "from lxml import etree\n",
        "import time\n",
        "import os\n",
        "import csv\n",
        "values = ['deprecated','outdated','obsolete','out of date']\n",
        "obsolete_values = []\n",
        "path = \"/content/gdrive/MyDrive/SE/\" \n",
        "start_time = time.time()\n",
        "count = 0\n",
        "\n",
        "for event,elem in etree.iterparse(path+os.path.sep+\"Comments.xml\", events=(\"start\",\"end\",\"start-ns\",\"end-ns\")):\n",
        "        key = ['Id','PostId','Score','Text','CreationDate','UserId','ContentLicense']\n",
        "        val = elem.attrib.values() \n",
        "        zipped_val = dict(zip(key,val)) \n",
        "        textData = zipped_val.get('Text')\n",
        "        textData = str(textData)\n",
        "         \n",
        "        if 'deprecated' in textData or 'outdated' in textData or 'obsolete' in textData or 'out of date' in textData:\n",
        "          #values append\n",
        "           obsolete_values.append(val)\n",
        "        \n",
        "           count +=1\n",
        "         \n",
        "           if(count%10000==0):\n",
        "             print(\"Progress \"+str(count))\n",
        "                                               \n",
        "        elem.clear()\n",
        "\n",
        "print(\"%s seconds \" % (time.time() - start_time))"
      ],
      "execution_count": null,
      "outputs": [
        {
          "name": "stdout",
          "output_type": "stream",
          "text": [
            "Progress 10000\n",
            "Progress 20000\n",
            "Progress 30000\n",
            "Progress 40000\n",
            "Progress 50000\n",
            "Progress 60000\n",
            "Progress 70000\n",
            "Progress 80000\n",
            "Progress 90000\n",
            "Progress 100000\n",
            "Progress 110000\n",
            "Progress 120000\n",
            "Progress 130000\n",
            "Progress 140000\n",
            "Progress 150000\n",
            "Progress 160000\n",
            "Progress 170000\n",
            "Progress 180000\n",
            "Progress 190000\n",
            "948.7580816745758 seconds \n"
          ]
        }
      ]
    },
    {
      "cell_type": "code",
      "metadata": {
        "colab": {
          "base_uri": "https://localhost:8080/"
        },
        "id": "NxmqMgbPeJg9",
        "outputId": "acda1a2a-2608-4d49-919f-915011879d68"
      },
      "source": [
        "obsolete_values[0]"
      ],
      "execution_count": null,
      "outputs": [
        {
          "data": {
            "text/plain": [
              "['205',\n",
              " '48905',\n",
              " '7',\n",
              " 'I think this attitude (that theoretical questions have no bearing on a pragmatic forum) is harmful and obsolete. \\n\\nPragmatic approaches should be open to new technologies, because those technologies can likely improve daily activities in the near future.  eg: functional features in c#/python.',\n",
              " '2008-09-08T01:30:43.787',\n",
              " '3446',\n",
              " 'CC BY-SA 2.5']"
            ]
          },
          "execution_count": 34,
          "metadata": {
            "tags": []
          },
          "output_type": "execute_result"
        }
      ]
    },
    {
      "cell_type": "markdown",
      "metadata": {
        "id": "pEmZX7eIpbvY"
      },
      "source": [
        "#Here I got dataset using big query Below I have put the query\n",
        "\n",
        "select Comments.id as comment_id,Comments.Text as text, Comments.user_id as comments_userId,Comments.post_id as comments_post_id ,\n",
        "Posts.owner_user_id as question_user_id, Posts.id as main_post_id,\n",
        "answer.owner_user_id as answer_user_id, Posts.tags as answer_tags, Posts.creation_date question_date, Comments.creation_date comments_date,\n",
        "answer.creation_date as answer_date, answer.last_edit_date as answer_last_edit_date, answer.last_activity_date as answer_last_activity_date,\n",
        "Posts.last_edit_date question_last_edit_date, Posts.last_activity_date as question_last_activity_date\n",
        "from `bigquery-public-data.stackoverflow.comments` Comments\n",
        "join `bigquery-public-data.stackoverflow.posts_questions` Posts\n",
        "on Comments.post_id = Posts.Id\n",
        "join `bigquery-public-data.stackoverflow.posts_answers` answer\n",
        "on Posts.id = answer.parent_id\n",
        "where Comments.Text like ('%deprecated%') \n",
        "or Comments.Text like ('%outdated%')\n",
        "or Comments.Text like ('%out of date%')\n",
        "or Comments.Text like ('%obsolete%')\n"
      ]
    },
    {
      "cell_type": "markdown",
      "metadata": {
        "id": "ng1bvnSNT3NE"
      },
      "source": [
        "#New Dataset\n",
        "#RQ1 Quanitative Analysis"
      ]
    },
    {
      "cell_type": "code",
      "metadata": {
        "id": "rHEcxvxA7g1T"
      },
      "source": [
        "df = pd.read_csv('/content/gdrive/MyDrive/SE/final_value.csv')"
      ],
      "execution_count": 3,
      "outputs": []
    },
    {
      "cell_type": "code",
      "metadata": {
        "colab": {
          "base_uri": "https://localhost:8080/",
          "height": 1000
        },
        "id": "8DStYhC2CyrN",
        "outputId": "cc099cf2-cb1d-4c9b-e7b4-3b96fb71a386"
      },
      "source": [
        "print(len(df))\n",
        "df"
      ],
      "execution_count": 23,
      "outputs": [
        {
          "output_type": "stream",
          "text": [
            "103323\n"
          ],
          "name": "stdout"
        },
        {
          "output_type": "execute_result",
          "data": {
            "text/html": [
              "<div>\n",
              "<style scoped>\n",
              "    .dataframe tbody tr th:only-of-type {\n",
              "        vertical-align: middle;\n",
              "    }\n",
              "\n",
              "    .dataframe tbody tr th {\n",
              "        vertical-align: top;\n",
              "    }\n",
              "\n",
              "    .dataframe thead th {\n",
              "        text-align: right;\n",
              "    }\n",
              "</style>\n",
              "<table border=\"1\" class=\"dataframe\">\n",
              "  <thead>\n",
              "    <tr style=\"text-align: right;\">\n",
              "      <th></th>\n",
              "      <th>Id</th>\n",
              "      <th>comment_user_id</th>\n",
              "      <th>post_id</th>\n",
              "      <th>Score</th>\n",
              "      <th>Creation_Date</th>\n",
              "      <th>Text</th>\n",
              "      <th>last_edit_date</th>\n",
              "      <th>last_activity_date</th>\n",
              "      <th>Id_1</th>\n",
              "      <th>Creation_Date_1</th>\n",
              "      <th>Score_1</th>\n",
              "      <th>tags</th>\n",
              "      <th>body</th>\n",
              "      <th>answer_post_type_id</th>\n",
              "      <th>question_posty_type_id</th>\n",
              "      <th>question_user_id</th>\n",
              "      <th>answer_user_id</th>\n",
              "      <th>accepted_answer_id</th>\n",
              "    </tr>\n",
              "  </thead>\n",
              "  <tbody>\n",
              "    <tr>\n",
              "      <th>0</th>\n",
              "      <td>16881976</td>\n",
              "      <td>725418.0</td>\n",
              "      <td>12537730</td>\n",
              "      <td>2</td>\n",
              "      <td>2012-09-21 20:29:46.997 UTC</td>\n",
              "      <td>Backticks are deprecated? Do you have a source...</td>\n",
              "      <td>NaN</td>\n",
              "      <td>2012-09-21 20:27:41.093 UTC</td>\n",
              "      <td>12537730</td>\n",
              "      <td>2012-09-21 20:27:41.093 UTC</td>\n",
              "      <td>-4</td>\n",
              "      <td>perl|sh|backticks</td>\n",
              "      <td>&lt;p&gt;I'm experiencing some problems trying to ca...</td>\n",
              "      <td>2</td>\n",
              "      <td>1</td>\n",
              "      <td>667147.0</td>\n",
              "      <td>368630.0</td>\n",
              "      <td>12536905.0</td>\n",
              "    </tr>\n",
              "    <tr>\n",
              "      <th>1</th>\n",
              "      <td>16882221</td>\n",
              "      <td>589924.0</td>\n",
              "      <td>12537730</td>\n",
              "      <td>2</td>\n",
              "      <td>2012-09-21 20:41:49.03 UTC</td>\n",
              "      <td>No mentioned of them being deprecated in the [...</td>\n",
              "      <td>NaN</td>\n",
              "      <td>2012-09-21 20:27:41.093 UTC</td>\n",
              "      <td>12537730</td>\n",
              "      <td>2012-09-21 20:27:41.093 UTC</td>\n",
              "      <td>-4</td>\n",
              "      <td>perl|sh|backticks</td>\n",
              "      <td>&lt;p&gt;I'm experiencing some problems trying to ca...</td>\n",
              "      <td>2</td>\n",
              "      <td>1</td>\n",
              "      <td>667147.0</td>\n",
              "      <td>368630.0</td>\n",
              "      <td>12536905.0</td>\n",
              "    </tr>\n",
              "    <tr>\n",
              "      <th>2</th>\n",
              "      <td>50454015</td>\n",
              "      <td>863110.0</td>\n",
              "      <td>12597700</td>\n",
              "      <td>1</td>\n",
              "      <td>2015-07-05 04:49:22.963 UTC</td>\n",
              "      <td>fnRender was deprecated! use mRender / mData. ...</td>\n",
              "      <td>2012-09-26 08:55:30.957 UTC</td>\n",
              "      <td>2012-09-26 08:55:30.957 UTC</td>\n",
              "      <td>12597700</td>\n",
              "      <td>2012-09-26 08:36:00.583 UTC</td>\n",
              "      <td>23</td>\n",
              "      <td>jquery|datatables</td>\n",
              "      <td>&lt;p&gt;I am new to JQuery. \\nCan anyone tell me ho...</td>\n",
              "      <td>2</td>\n",
              "      <td>1</td>\n",
              "      <td>1699464.0</td>\n",
              "      <td>570897.0</td>\n",
              "      <td>12597700.0</td>\n",
              "    </tr>\n",
              "    <tr>\n",
              "      <th>3</th>\n",
              "      <td>20633131</td>\n",
              "      <td>355540.0</td>\n",
              "      <td>13465185</td>\n",
              "      <td>0</td>\n",
              "      <td>2013-02-07 05:56:49.43 UTC</td>\n",
              "      <td>Removing the outdated gem fixed the issue for me.</td>\n",
              "      <td>2012-11-29 13:11:23.69 UTC</td>\n",
              "      <td>2012-11-29 13:11:23.69 UTC</td>\n",
              "      <td>13465185</td>\n",
              "      <td>2012-11-20 01:14:25.633 UTC</td>\n",
              "      <td>21</td>\n",
              "      <td>heroku</td>\n",
              "      <td>&lt;p&gt;I get an \"Could not find RubyGem heroku (Ge...</td>\n",
              "      <td>2</td>\n",
              "      <td>1</td>\n",
              "      <td>646607.0</td>\n",
              "      <td>832.0</td>\n",
              "      <td>NaN</td>\n",
              "    </tr>\n",
              "    <tr>\n",
              "      <th>4</th>\n",
              "      <td>16849185</td>\n",
              "      <td>343204.0</td>\n",
              "      <td>12500215</td>\n",
              "      <td>3</td>\n",
              "      <td>2012-09-20 16:56:35.233 UTC</td>\n",
              "      <td>First: works beautifully. Second gives: WARNIN...</td>\n",
              "      <td>2014-04-15 20:44:10.09 UTC</td>\n",
              "      <td>2014-04-15 20:44:10.09 UTC</td>\n",
              "      <td>12500215</td>\n",
              "      <td>2012-09-19 17:52:00.447 UTC</td>\n",
              "      <td>21</td>\n",
              "      <td>ruby-on-rails-3|rake</td>\n",
              "      <td>&lt;p&gt;I'm trying to pass arguments to a Rake task...</td>\n",
              "      <td>2</td>\n",
              "      <td>1</td>\n",
              "      <td>343204.0</td>\n",
              "      <td>382818.0</td>\n",
              "      <td>12500215.0</td>\n",
              "    </tr>\n",
              "    <tr>\n",
              "      <th>...</th>\n",
              "      <td>...</td>\n",
              "      <td>...</td>\n",
              "      <td>...</td>\n",
              "      <td>...</td>\n",
              "      <td>...</td>\n",
              "      <td>...</td>\n",
              "      <td>...</td>\n",
              "      <td>...</td>\n",
              "      <td>...</td>\n",
              "      <td>...</td>\n",
              "      <td>...</td>\n",
              "      <td>...</td>\n",
              "      <td>...</td>\n",
              "      <td>...</td>\n",
              "      <td>...</td>\n",
              "      <td>...</td>\n",
              "      <td>...</td>\n",
              "      <td>...</td>\n",
              "    </tr>\n",
              "    <tr>\n",
              "      <th>103318</th>\n",
              "      <td>71385972</td>\n",
              "      <td>5309228.0</td>\n",
              "      <td>42107979</td>\n",
              "      <td>0</td>\n",
              "      <td>2017-02-08 08:54:34.45 UTC</td>\n",
              "      <td>**don't** use the deprecated `mysql`-functions...</td>\n",
              "      <td>NaN</td>\n",
              "      <td>2017-02-08 08:22:07.617 UTC</td>\n",
              "      <td>42107979</td>\n",
              "      <td>2017-02-08 08:22:07.617 UTC</td>\n",
              "      <td>-1</td>\n",
              "      <td>php</td>\n",
              "      <td>&lt;p&gt;my table have 3 field :RapperName , MusicPa...</td>\n",
              "      <td>2</td>\n",
              "      <td>1</td>\n",
              "      <td>7415865.0</td>\n",
              "      <td>4939915.0</td>\n",
              "      <td>NaN</td>\n",
              "    </tr>\n",
              "    <tr>\n",
              "      <th>103319</th>\n",
              "      <td>71106833</td>\n",
              "      <td>459750.0</td>\n",
              "      <td>41963909</td>\n",
              "      <td>0</td>\n",
              "      <td>2017-01-31 17:35:34.213 UTC</td>\n",
              "      <td>Do not suggest style-based attributes such as ...</td>\n",
              "      <td>NaN</td>\n",
              "      <td>2017-01-31 17:33:01.803 UTC</td>\n",
              "      <td>41963909</td>\n",
              "      <td>2017-01-31 17:33:01.803 UTC</td>\n",
              "      <td>-1</td>\n",
              "      <td>html|css</td>\n",
              "      <td>&lt;p&gt;I am trying to add an image next to a text ...</td>\n",
              "      <td>2</td>\n",
              "      <td>1</td>\n",
              "      <td>6950823.0</td>\n",
              "      <td>3913583.0</td>\n",
              "      <td>41963893.0</td>\n",
              "    </tr>\n",
              "    <tr>\n",
              "      <th>103320</th>\n",
              "      <td>70779120</td>\n",
              "      <td>1388319.0</td>\n",
              "      <td>41779268</td>\n",
              "      <td>0</td>\n",
              "      <td>2017-01-22 19:59:23.147 UTC</td>\n",
              "      <td>You didn't provide the specific `version()` re...</td>\n",
              "      <td>NaN</td>\n",
              "      <td>2017-01-21 12:21:09.223 UTC</td>\n",
              "      <td>41779268</td>\n",
              "      <td>2017-01-21 12:21:09.223 UTC</td>\n",
              "      <td>-1</td>\n",
              "      <td>mongodb</td>\n",
              "      <td>&lt;p&gt;I used mongo shell and i can't see my colle...</td>\n",
              "      <td>2</td>\n",
              "      <td>1</td>\n",
              "      <td>7443179.0</td>\n",
              "      <td>7443179.0</td>\n",
              "      <td>41779268.0</td>\n",
              "    </tr>\n",
              "    <tr>\n",
              "      <th>103321</th>\n",
              "      <td>71029005</td>\n",
              "      <td>1175966.0</td>\n",
              "      <td>41924151</td>\n",
              "      <td>0</td>\n",
              "      <td>2017-01-29 18:15:31.877 UTC</td>\n",
              "      <td>Cite reference for `&lt;i&gt;` being deprecated</td>\n",
              "      <td>NaN</td>\n",
              "      <td>2017-01-29 18:00:30.247 UTC</td>\n",
              "      <td>41924151</td>\n",
              "      <td>2017-01-29 18:00:30.247 UTC</td>\n",
              "      <td>-1</td>\n",
              "      <td>javascript|jquery|html|css</td>\n",
              "      <td>&lt;p&gt;I have very very small code, where I descri...</td>\n",
              "      <td>2</td>\n",
              "      <td>1</td>\n",
              "      <td>7486774.0</td>\n",
              "      <td>4703153.0</td>\n",
              "      <td>NaN</td>\n",
              "    </tr>\n",
              "    <tr>\n",
              "      <th>103322</th>\n",
              "      <td>75615061</td>\n",
              "      <td>1514973.0</td>\n",
              "      <td>44304511</td>\n",
              "      <td>0</td>\n",
              "      <td>2017-06-01 10:24:59.743 UTC</td>\n",
              "      <td>Please add some code here and don't only add a...</td>\n",
              "      <td>2017-06-03 05:30:15.503 UTC</td>\n",
              "      <td>2017-06-03 05:30:15.503 UTC</td>\n",
              "      <td>44304511</td>\n",
              "      <td>2017-06-01 10:02:26.883 UTC</td>\n",
              "      <td>-1</td>\n",
              "      <td>json|hadoop|hive</td>\n",
              "      <td>&lt;p&gt;I have a JSON data which is a multi-line JS...</td>\n",
              "      <td>2</td>\n",
              "      <td>1</td>\n",
              "      <td>5636416.0</td>\n",
              "      <td>2127389.0</td>\n",
              "      <td>42325024.0</td>\n",
              "    </tr>\n",
              "  </tbody>\n",
              "</table>\n",
              "<p>103323 rows × 18 columns</p>\n",
              "</div>"
            ],
            "text/plain": [
              "              Id  comment_user_id  ...  answer_user_id  accepted_answer_id\n",
              "0       16881976         725418.0  ...        368630.0          12536905.0\n",
              "1       16882221         589924.0  ...        368630.0          12536905.0\n",
              "2       50454015         863110.0  ...        570897.0          12597700.0\n",
              "3       20633131         355540.0  ...           832.0                 NaN\n",
              "4       16849185         343204.0  ...        382818.0          12500215.0\n",
              "...          ...              ...  ...             ...                 ...\n",
              "103318  71385972        5309228.0  ...       4939915.0                 NaN\n",
              "103319  71106833         459750.0  ...       3913583.0          41963893.0\n",
              "103320  70779120        1388319.0  ...       7443179.0          41779268.0\n",
              "103321  71029005        1175966.0  ...       4703153.0                 NaN\n",
              "103322  75615061        1514973.0  ...       2127389.0          42325024.0\n",
              "\n",
              "[103323 rows x 18 columns]"
            ]
          },
          "metadata": {},
          "execution_count": 23
        }
      ]
    },
    {
      "cell_type": "markdown",
      "metadata": {
        "id": "ALkE7ip7ek3I"
      },
      "source": [
        "#Dropping same post id associate with comment"
      ]
    },
    {
      "cell_type": "code",
      "metadata": {
        "id": "PfIkTMl3QeAG"
      },
      "source": [
        "df = df.drop_duplicates(subset=['post_id'])"
      ],
      "execution_count": 24,
      "outputs": []
    },
    {
      "cell_type": "code",
      "metadata": {
        "colab": {
          "base_uri": "https://localhost:8080/",
          "height": 1000
        },
        "id": "sNRdSmMLQ7Qw",
        "outputId": "286d8b28-53ef-44c1-91c5-aaae12948380"
      },
      "source": [
        "df"
      ],
      "execution_count": 25,
      "outputs": [
        {
          "output_type": "execute_result",
          "data": {
            "text/html": [
              "<div>\n",
              "<style scoped>\n",
              "    .dataframe tbody tr th:only-of-type {\n",
              "        vertical-align: middle;\n",
              "    }\n",
              "\n",
              "    .dataframe tbody tr th {\n",
              "        vertical-align: top;\n",
              "    }\n",
              "\n",
              "    .dataframe thead th {\n",
              "        text-align: right;\n",
              "    }\n",
              "</style>\n",
              "<table border=\"1\" class=\"dataframe\">\n",
              "  <thead>\n",
              "    <tr style=\"text-align: right;\">\n",
              "      <th></th>\n",
              "      <th>Id</th>\n",
              "      <th>comment_user_id</th>\n",
              "      <th>post_id</th>\n",
              "      <th>Score</th>\n",
              "      <th>Creation_Date</th>\n",
              "      <th>Text</th>\n",
              "      <th>last_edit_date</th>\n",
              "      <th>last_activity_date</th>\n",
              "      <th>Id_1</th>\n",
              "      <th>Creation_Date_1</th>\n",
              "      <th>Score_1</th>\n",
              "      <th>tags</th>\n",
              "      <th>body</th>\n",
              "      <th>answer_post_type_id</th>\n",
              "      <th>question_posty_type_id</th>\n",
              "      <th>question_user_id</th>\n",
              "      <th>answer_user_id</th>\n",
              "      <th>accepted_answer_id</th>\n",
              "    </tr>\n",
              "  </thead>\n",
              "  <tbody>\n",
              "    <tr>\n",
              "      <th>0</th>\n",
              "      <td>16881976</td>\n",
              "      <td>725418.0</td>\n",
              "      <td>12537730</td>\n",
              "      <td>2</td>\n",
              "      <td>2012-09-21 20:29:46.997 UTC</td>\n",
              "      <td>Backticks are deprecated? Do you have a source...</td>\n",
              "      <td>NaN</td>\n",
              "      <td>2012-09-21 20:27:41.093 UTC</td>\n",
              "      <td>12537730</td>\n",
              "      <td>2012-09-21 20:27:41.093 UTC</td>\n",
              "      <td>-4</td>\n",
              "      <td>perl|sh|backticks</td>\n",
              "      <td>&lt;p&gt;I'm experiencing some problems trying to ca...</td>\n",
              "      <td>2</td>\n",
              "      <td>1</td>\n",
              "      <td>667147.0</td>\n",
              "      <td>368630.0</td>\n",
              "      <td>12536905.0</td>\n",
              "    </tr>\n",
              "    <tr>\n",
              "      <th>2</th>\n",
              "      <td>50454015</td>\n",
              "      <td>863110.0</td>\n",
              "      <td>12597700</td>\n",
              "      <td>1</td>\n",
              "      <td>2015-07-05 04:49:22.963 UTC</td>\n",
              "      <td>fnRender was deprecated! use mRender / mData. ...</td>\n",
              "      <td>2012-09-26 08:55:30.957 UTC</td>\n",
              "      <td>2012-09-26 08:55:30.957 UTC</td>\n",
              "      <td>12597700</td>\n",
              "      <td>2012-09-26 08:36:00.583 UTC</td>\n",
              "      <td>23</td>\n",
              "      <td>jquery|datatables</td>\n",
              "      <td>&lt;p&gt;I am new to JQuery. \\nCan anyone tell me ho...</td>\n",
              "      <td>2</td>\n",
              "      <td>1</td>\n",
              "      <td>1699464.0</td>\n",
              "      <td>570897.0</td>\n",
              "      <td>12597700.0</td>\n",
              "    </tr>\n",
              "    <tr>\n",
              "      <th>3</th>\n",
              "      <td>20633131</td>\n",
              "      <td>355540.0</td>\n",
              "      <td>13465185</td>\n",
              "      <td>0</td>\n",
              "      <td>2013-02-07 05:56:49.43 UTC</td>\n",
              "      <td>Removing the outdated gem fixed the issue for me.</td>\n",
              "      <td>2012-11-29 13:11:23.69 UTC</td>\n",
              "      <td>2012-11-29 13:11:23.69 UTC</td>\n",
              "      <td>13465185</td>\n",
              "      <td>2012-11-20 01:14:25.633 UTC</td>\n",
              "      <td>21</td>\n",
              "      <td>heroku</td>\n",
              "      <td>&lt;p&gt;I get an \"Could not find RubyGem heroku (Ge...</td>\n",
              "      <td>2</td>\n",
              "      <td>1</td>\n",
              "      <td>646607.0</td>\n",
              "      <td>832.0</td>\n",
              "      <td>NaN</td>\n",
              "    </tr>\n",
              "    <tr>\n",
              "      <th>4</th>\n",
              "      <td>16849185</td>\n",
              "      <td>343204.0</td>\n",
              "      <td>12500215</td>\n",
              "      <td>3</td>\n",
              "      <td>2012-09-20 16:56:35.233 UTC</td>\n",
              "      <td>First: works beautifully. Second gives: WARNIN...</td>\n",
              "      <td>2014-04-15 20:44:10.09 UTC</td>\n",
              "      <td>2014-04-15 20:44:10.09 UTC</td>\n",
              "      <td>12500215</td>\n",
              "      <td>2012-09-19 17:52:00.447 UTC</td>\n",
              "      <td>21</td>\n",
              "      <td>ruby-on-rails-3|rake</td>\n",
              "      <td>&lt;p&gt;I'm trying to pass arguments to a Rake task...</td>\n",
              "      <td>2</td>\n",
              "      <td>1</td>\n",
              "      <td>343204.0</td>\n",
              "      <td>382818.0</td>\n",
              "      <td>12500215.0</td>\n",
              "    </tr>\n",
              "    <tr>\n",
              "      <th>5</th>\n",
              "      <td>16170105</td>\n",
              "      <td>157882.0</td>\n",
              "      <td>12099039</td>\n",
              "      <td>1</td>\n",
              "      <td>2012-08-23 20:08:01.083 UTC</td>\n",
              "      <td>@Jake: `setAction()` is the [deprecated](http:...</td>\n",
              "      <td>2017-05-23 12:22:46.123 UTC</td>\n",
              "      <td>2016-04-27 17:03:31.733 UTC</td>\n",
              "      <td>12099039</td>\n",
              "      <td>2012-08-23 19:55:41.83 UTC</td>\n",
              "      <td>19</td>\n",
              "      <td>jsf|dynamic|jsf-2|action</td>\n",
              "      <td>&lt;p&gt;I'm trying to add JSF &lt;code&gt;&amp;lt;h:commandBu...</td>\n",
              "      <td>2</td>\n",
              "      <td>1</td>\n",
              "      <td>1569498.0</td>\n",
              "      <td>157882.0</td>\n",
              "      <td>12099039.0</td>\n",
              "    </tr>\n",
              "    <tr>\n",
              "      <th>...</th>\n",
              "      <td>...</td>\n",
              "      <td>...</td>\n",
              "      <td>...</td>\n",
              "      <td>...</td>\n",
              "      <td>...</td>\n",
              "      <td>...</td>\n",
              "      <td>...</td>\n",
              "      <td>...</td>\n",
              "      <td>...</td>\n",
              "      <td>...</td>\n",
              "      <td>...</td>\n",
              "      <td>...</td>\n",
              "      <td>...</td>\n",
              "      <td>...</td>\n",
              "      <td>...</td>\n",
              "      <td>...</td>\n",
              "      <td>...</td>\n",
              "      <td>...</td>\n",
              "    </tr>\n",
              "    <tr>\n",
              "      <th>103318</th>\n",
              "      <td>71385972</td>\n",
              "      <td>5309228.0</td>\n",
              "      <td>42107979</td>\n",
              "      <td>0</td>\n",
              "      <td>2017-02-08 08:54:34.45 UTC</td>\n",
              "      <td>**don't** use the deprecated `mysql`-functions...</td>\n",
              "      <td>NaN</td>\n",
              "      <td>2017-02-08 08:22:07.617 UTC</td>\n",
              "      <td>42107979</td>\n",
              "      <td>2017-02-08 08:22:07.617 UTC</td>\n",
              "      <td>-1</td>\n",
              "      <td>php</td>\n",
              "      <td>&lt;p&gt;my table have 3 field :RapperName , MusicPa...</td>\n",
              "      <td>2</td>\n",
              "      <td>1</td>\n",
              "      <td>7415865.0</td>\n",
              "      <td>4939915.0</td>\n",
              "      <td>NaN</td>\n",
              "    </tr>\n",
              "    <tr>\n",
              "      <th>103319</th>\n",
              "      <td>71106833</td>\n",
              "      <td>459750.0</td>\n",
              "      <td>41963909</td>\n",
              "      <td>0</td>\n",
              "      <td>2017-01-31 17:35:34.213 UTC</td>\n",
              "      <td>Do not suggest style-based attributes such as ...</td>\n",
              "      <td>NaN</td>\n",
              "      <td>2017-01-31 17:33:01.803 UTC</td>\n",
              "      <td>41963909</td>\n",
              "      <td>2017-01-31 17:33:01.803 UTC</td>\n",
              "      <td>-1</td>\n",
              "      <td>html|css</td>\n",
              "      <td>&lt;p&gt;I am trying to add an image next to a text ...</td>\n",
              "      <td>2</td>\n",
              "      <td>1</td>\n",
              "      <td>6950823.0</td>\n",
              "      <td>3913583.0</td>\n",
              "      <td>41963893.0</td>\n",
              "    </tr>\n",
              "    <tr>\n",
              "      <th>103320</th>\n",
              "      <td>70779120</td>\n",
              "      <td>1388319.0</td>\n",
              "      <td>41779268</td>\n",
              "      <td>0</td>\n",
              "      <td>2017-01-22 19:59:23.147 UTC</td>\n",
              "      <td>You didn't provide the specific `version()` re...</td>\n",
              "      <td>NaN</td>\n",
              "      <td>2017-01-21 12:21:09.223 UTC</td>\n",
              "      <td>41779268</td>\n",
              "      <td>2017-01-21 12:21:09.223 UTC</td>\n",
              "      <td>-1</td>\n",
              "      <td>mongodb</td>\n",
              "      <td>&lt;p&gt;I used mongo shell and i can't see my colle...</td>\n",
              "      <td>2</td>\n",
              "      <td>1</td>\n",
              "      <td>7443179.0</td>\n",
              "      <td>7443179.0</td>\n",
              "      <td>41779268.0</td>\n",
              "    </tr>\n",
              "    <tr>\n",
              "      <th>103321</th>\n",
              "      <td>71029005</td>\n",
              "      <td>1175966.0</td>\n",
              "      <td>41924151</td>\n",
              "      <td>0</td>\n",
              "      <td>2017-01-29 18:15:31.877 UTC</td>\n",
              "      <td>Cite reference for `&lt;i&gt;` being deprecated</td>\n",
              "      <td>NaN</td>\n",
              "      <td>2017-01-29 18:00:30.247 UTC</td>\n",
              "      <td>41924151</td>\n",
              "      <td>2017-01-29 18:00:30.247 UTC</td>\n",
              "      <td>-1</td>\n",
              "      <td>javascript|jquery|html|css</td>\n",
              "      <td>&lt;p&gt;I have very very small code, where I descri...</td>\n",
              "      <td>2</td>\n",
              "      <td>1</td>\n",
              "      <td>7486774.0</td>\n",
              "      <td>4703153.0</td>\n",
              "      <td>NaN</td>\n",
              "    </tr>\n",
              "    <tr>\n",
              "      <th>103322</th>\n",
              "      <td>75615061</td>\n",
              "      <td>1514973.0</td>\n",
              "      <td>44304511</td>\n",
              "      <td>0</td>\n",
              "      <td>2017-06-01 10:24:59.743 UTC</td>\n",
              "      <td>Please add some code here and don't only add a...</td>\n",
              "      <td>2017-06-03 05:30:15.503 UTC</td>\n",
              "      <td>2017-06-03 05:30:15.503 UTC</td>\n",
              "      <td>44304511</td>\n",
              "      <td>2017-06-01 10:02:26.883 UTC</td>\n",
              "      <td>-1</td>\n",
              "      <td>json|hadoop|hive</td>\n",
              "      <td>&lt;p&gt;I have a JSON data which is a multi-line JS...</td>\n",
              "      <td>2</td>\n",
              "      <td>1</td>\n",
              "      <td>5636416.0</td>\n",
              "      <td>2127389.0</td>\n",
              "      <td>42325024.0</td>\n",
              "    </tr>\n",
              "  </tbody>\n",
              "</table>\n",
              "<p>91572 rows × 18 columns</p>\n",
              "</div>"
            ],
            "text/plain": [
              "              Id  comment_user_id  ...  answer_user_id  accepted_answer_id\n",
              "0       16881976         725418.0  ...        368630.0          12536905.0\n",
              "2       50454015         863110.0  ...        570897.0          12597700.0\n",
              "3       20633131         355540.0  ...           832.0                 NaN\n",
              "4       16849185         343204.0  ...        382818.0          12500215.0\n",
              "5       16170105         157882.0  ...        157882.0          12099039.0\n",
              "...          ...              ...  ...             ...                 ...\n",
              "103318  71385972        5309228.0  ...       4939915.0                 NaN\n",
              "103319  71106833         459750.0  ...       3913583.0          41963893.0\n",
              "103320  70779120        1388319.0  ...       7443179.0          41779268.0\n",
              "103321  71029005        1175966.0  ...       4703153.0                 NaN\n",
              "103322  75615061        1514973.0  ...       2127389.0          42325024.0\n",
              "\n",
              "[91572 rows x 18 columns]"
            ]
          },
          "metadata": {},
          "execution_count": 25
        }
      ]
    },
    {
      "cell_type": "code",
      "metadata": {
        "id": "8MmqDda7KQw_"
      },
      "source": [
        "import matplotlib.pyplot as plt\n",
        "x = ['within 1 day','1-10 days','10 days - 1 month','1 month-1 year','More than 1 year']\n",
        "y = lis\n",
        "fig, ax = plt.subplots()\n",
        "pps = ax.bar(x, y, align='center')\n",
        "plt.xticks(rotation = 45)\n",
        "for p in pps:\n",
        "    height = p.get_height()\n",
        "    height1 = '('+str(height) + ')'\n",
        "    text = \"{}{:.2f}%\".format(height1,height * 100/count)\n",
        "    ax.text(p.get_x() + p.get_width()/2., 1.01*height,\n",
        "                text, ha='center', va='bottom',rotation = 30)\n",
        "    #ax.text(i,v,\"\",fontsize=18,color='red')\n",
        "\n",
        "plt.show()"
      ],
      "execution_count": null,
      "outputs": []
    },
    {
      "cell_type": "markdown",
      "metadata": {
        "id": "kowy9iSYestZ"
      },
      "source": [
        "#Date between answer and observe as obsolete"
      ]
    },
    {
      "cell_type": "code",
      "metadata": {
        "id": "eCNC9JMBVa4k"
      },
      "source": [
        "datex=pd.to_datetime(df['Creation_Date'])\n",
        "datey = pd.to_datetime(df['Creation_Date_1'])\n",
        "timeBetweenDates = datex-datey"
      ],
      "execution_count": 66,
      "outputs": []
    },
    {
      "cell_type": "code",
      "metadata": {
        "id": "tcg7WnaaHFKM"
      },
      "source": [
        "one_day = ten_day = one_month = one_year = year_plus = 0\n",
        "for i in timeBetweenDates:\n",
        "  x,y = str(i).split('days')\n",
        "  x = int(x)\n",
        "  if x == 0:\n",
        "    one_day +=1\n",
        "  elif 1 <= x <= 10:\n",
        "    ten_day += 1\n",
        "  elif 10 < x <= 30:\n",
        "    one_month += 1\n",
        "  elif 30 < x <= 365:\n",
        "    one_year += 1\n",
        "  elif x> 365:\n",
        "    year_plus += 1"
      ],
      "execution_count": 67,
      "outputs": []
    },
    {
      "cell_type": "code",
      "metadata": {
        "colab": {
          "base_uri": "https://localhost:8080/"
        },
        "id": "yNuy_Y33S5lo",
        "outputId": "602df1fc-9cfa-4806-fa9c-0b31f83b8a4b"
      },
      "source": [
        "lis= []\n",
        "lis.append(one_day)\n",
        "lis.append(ten_day)\n",
        "lis.append(one_month)\n",
        "lis.append(one_year)\n",
        "lis.append(year_plus)\n",
        "print(lis)"
      ],
      "execution_count": 68,
      "outputs": [
        {
          "output_type": "stream",
          "text": [
            "[47583, 7620, 1298, 7963, 27107]\n"
          ],
          "name": "stdout"
        }
      ]
    },
    {
      "cell_type": "code",
      "metadata": {
        "colab": {
          "base_uri": "https://localhost:8080/"
        },
        "id": "fh2KF76kcQOx",
        "outputId": "6bb8d0ed-0292-4851-a7ed-b25a3af98ef9"
      },
      "source": [
        "count=one_day + ten_day + one_month + one_year + year_plus\n",
        "count\n",
        "lisPer = []\n",
        "one_day_per = one_day * 100 / count\n",
        "ten_day_per = ten_day * 100 / count\n",
        "one_month_per = one_month * 100 / count\n",
        "one_year_per = one_year * 100 / count\n",
        "year_plus_per = year_plus * 100 / count\n",
        "lisPer.append(one_day_per)\n",
        "lisPer.append(ten_day_per)\n",
        "lisPer.append(one_month_per)\n",
        "lisPer.append(one_year_per)\n",
        "lisPer.append(year_plus_per)\n",
        "print(lisPer)"
      ],
      "execution_count": 69,
      "outputs": [
        {
          "output_type": "stream",
          "text": [
            "[51.962957704950256, 8.321411800679254, 1.4174793329765973, 8.695984536589094, 29.602166624804795]\n"
          ],
          "name": "stdout"
        }
      ]
    },
    {
      "cell_type": "markdown",
      "metadata": {
        "id": "oyPhiU2kRjZa"
      },
      "source": [
        "#Plotting bar graph for RQ1"
      ]
    },
    {
      "cell_type": "code",
      "metadata": {
        "colab": {
          "base_uri": "https://localhost:8080/",
          "height": 366
        },
        "id": "gxPBsoSKWju5",
        "outputId": "97b2717b-ca87-42f3-abd5-bb2ade228796"
      },
      "source": [
        "import matplotlib.pyplot as plt\n",
        "x = ['within 1 day','1-10 days','10 days - 1 month','1 month-1 year','More than 1 year']\n",
        "y = lis\n",
        "fig, ax = plt.subplots()\n",
        "pps = ax.bar(x, y, align='center')\n",
        "plt.xticks(rotation = 45)\n",
        "for p in pps:\n",
        "    height = p.get_height()\n",
        "    height1 = '('+str(height) + ')'\n",
        "    text = \"{}{:.2f}%\".format(height1,height * 100/count)\n",
        "    ax.text(p.get_x() + p.get_width()/2., 1.01*height,\n",
        "                text, ha='center', va='bottom',rotation = 30)\n",
        "    #ax.text(i,v,\"\",fontsize=18,color='red')\n",
        "\n",
        "plt.show()"
      ],
      "execution_count": 70,
      "outputs": [
        {
          "output_type": "display_data",
          "data": {
            "image/png": "[encoded data removed]",
            "text/plain": [
              "<Figure size 432x288 with 1 Axes>"
            ]
          },
          "metadata": {
            "needs_background": "light"
          }
        }
      ]
    },
    {
      "cell_type": "markdown",
      "metadata": {
        "id": "zVc6_9noscft"
      },
      "source": [
        "#Observed obsolence withing time "
      ]
    },
    {
      "cell_type": "markdown",
      "metadata": {
        "id": "zsxk1pidfEBp"
      },
      "source": [
        "#________________________________________________________________________"
      ]
    },
    {
      "cell_type": "markdown",
      "metadata": {
        "id": "02c8y_bbebYp"
      },
      "source": [
        "#RQ2"
      ]
    },
    {
      "cell_type": "markdown",
      "metadata": {
        "id": "m1GMD-MRfPAM"
      },
      "source": [
        "#Counting Tags"
      ]
    },
    {
      "cell_type": "code",
      "metadata": {
        "colab": {
          "base_uri": "https://localhost:8080/"
        },
        "id": "H_IhWGewS_ei",
        "outputId": "e193f376-d981-485f-d23f-6af229ed4ca8"
      },
      "source": [
        "dfTag = df['tags'].dropna()\n",
        "dfTag.head(10)"
      ],
      "execution_count": 18,
      "outputs": [
        {
          "output_type": "execute_result",
          "data": {
            "text/plain": [
              "0                                    perl|sh|backticks\n",
              "1                                    perl|sh|backticks\n",
              "2                                    jquery|datatables\n",
              "3                                               heroku\n",
              "4                                 ruby-on-rails-3|rake\n",
              "5                             jsf|dynamic|jsf-2|action\n",
              "6                       python|datetime|int|python-2.6\n",
              "7                           heroku|phantomjs|buildpack\n",
              "8    sql|ruby-on-rails|ruby-on-rails-3|activerecord...\n",
              "9                         php|datetime|rfc2822|rfc1123\n",
              "Name: tags, dtype: object"
            ]
          },
          "metadata": {},
          "execution_count": 18
        }
      ]
    },
    {
      "cell_type": "code",
      "metadata": {
        "id": "1hvtdBwgLbMT"
      },
      "source": [
        "import numpy as np\n",
        "tagDict = []\n",
        "tagDict = np.asarray(tagDict)\n",
        "for tag in dfTag:\n",
        "  # print(tag)\n",
        "    newTag = tag.split('|')\n",
        "    # print(newTag)\n",
        "    tagDict = np.concatenate((tagDict,newTag))\n",
        "    # print(newTag)"
      ],
      "execution_count": 19,
      "outputs": []
    },
    {
      "cell_type": "markdown",
      "metadata": {
        "id": "lcZBBnJsfc8e"
      },
      "source": [
        "#Counting all the unique tags associate with obsolete "
      ]
    },
    {
      "cell_type": "code",
      "metadata": {
        "colab": {
          "base_uri": "https://localhost:8080/"
        },
        "id": "kVtv4EB1LkJp",
        "outputId": "491108e0-f050-4715-fe8d-60672bfcaf49"
      },
      "source": [
        "total = len(tagDict)\n",
        "print(total)\n",
        "print(len(np.unique(tagDict)))"
      ],
      "execution_count": 20,
      "outputs": [
        {
          "output_type": "stream",
          "text": [
            "313591\n",
            "17340\n"
          ],
          "name": "stdout"
        }
      ]
    },
    {
      "cell_type": "markdown",
      "metadata": {
        "id": "l0Nnt1AXzGYh"
      },
      "source": [
        "#Here 17340 which associate with obsolete answers"
      ]
    },
    {
      "cell_type": "code",
      "metadata": {
        "id": "WOwIfCtUTxFd"
      },
      "source": [
        "def countTopWords(words,k):\n",
        "    ##### SOLUTION START #####\n",
        "  freqDist = FreqDist()\n",
        "  for i in words:\n",
        "    freqDist[i] += 1\n",
        "  topWords = freqDist.most_common(k)\n",
        "  return topWords"
      ],
      "execution_count": 75,
      "outputs": []
    },
    {
      "cell_type": "markdown",
      "metadata": {
        "id": "yvDaY9nufjEx"
      },
      "source": [
        "#Getting top 20 tag by their rank "
      ]
    },
    {
      "cell_type": "code",
      "metadata": {
        "id": "3xMqItNrSpPK"
      },
      "source": [
        "import nltk\n",
        "top20Words = countTopWords(tagDict,21)"
      ],
      "execution_count": 76,
      "outputs": []
    },
    {
      "cell_type": "code",
      "metadata": {
        "colab": {
          "base_uri": "https://localhost:8080/"
        },
        "id": "SaEn88eRU3jF",
        "outputId": "6ddf6a75-19a3-4862-d4ca-54838e580d0d"
      },
      "source": [
        "print(top20Words)"
      ],
      "execution_count": 77,
      "outputs": [
        {
          "output_type": "stream",
          "text": [
            "[('javascript', 10201), ('android', 9288), ('java', 8829), ('php', 7222), ('python', 5995), ('jquery', 5596), ('html', 4922), ('c#', 4295), ('c++', 4041), ('ios', 3918), ('mysql', 3276), ('css', 2810), ('c', 2132), ('objective-c', 2056), ('node.js', 2056), ('sql', 1761), ('ruby-on-rails', 1708), ('iphone', 1517), ('angular', 1497), ('swift', 1452), ('.net', 1408)]\n"
          ],
          "name": "stdout"
        }
      ]
    },
    {
      "cell_type": "code",
      "metadata": {
        "colab": {
          "base_uri": "https://localhost:8080/"
        },
        "id": "h5h5O--aXAJc",
        "outputId": "8f71b279-e5be-4ff8-c123-c014723a7805"
      },
      "source": [
        "x = []\n",
        "y = []\n",
        "f = []\n",
        "count = 0 \n",
        "for i in top20Words:\n",
        "  tag,freq = str(i).replace('(','').replace(')','').split(',')\n",
        "  x.append(tag)\n",
        "  numerical_freq = int(freq) \n",
        "  count += numerical_freq\n",
        "  y.append(numerical_freq/total)\n",
        "  f.append(freq)\n",
        "print(y)"
      ],
      "execution_count": 78,
      "outputs": [
        {
          "output_type": "stream",
          "text": [
            "[0.036663911152643495, 0.03338245336592028, 0.031732739100743985, 0.025956942098264026, 0.02154692161161629, 0.020112856269992454, 0.01769040002875319, 0.015436868777630019, 0.014523955001257952, 0.014081874707975416, 0.011774431225964131, 0.010099557919706717, 0.007662725083563958, 0.007389569780397513, 0.007389569780397513, 0.006329295906264601, 0.006138806023793264, 0.005452323617151277, 0.005380440642633792, 0.005218703949969449, 0.005060561406030981]\n"
          ],
          "name": "stdout"
        }
      ]
    },
    {
      "cell_type": "code",
      "metadata": {
        "colab": {
          "base_uri": "https://localhost:8080/",
          "height": 345
        },
        "id": "iwlzRN51YTei",
        "outputId": "894c43bf-e3cc-4204-dc23-bff7dc27db4d"
      },
      "source": [
        "fig, ax = plt.subplots()\n",
        "pps = ax.bar(x, y, align='center')\n",
        "plt.xticks(rotation = 50)\n",
        "for p in pps:\n",
        "    height = p.get_height()\n",
        "    height1 = '('+str(height) + ')'\n",
        "    text = \"{:.4f}%\".format(height)\n",
        "    ax.text(p.get_x() + p.get_width()/2., 1.01*height,\n",
        "                text, ha='center', va='bottom',rotation = 45)\n",
        "    #ax.text(i,v,\"\",fontsize=18,color='red')\n",
        "\n",
        "plt.show()"
      ],
      "execution_count": 79,
      "outputs": [
        {
          "output_type": "display_data",
          "data": {
            "image/png": "[encoded data removed]",
            "text/plain": [
              "<Figure size 432x288 with 1 Axes>"
            ]
          },
          "metadata": {
            "needs_background": "light"
          }
        }
      ]
    },
    {
      "cell_type": "code",
      "metadata": {
        "colab": {
          "base_uri": "https://localhost:8080/"
        },
        "id": "KXqXRVOeEajd",
        "outputId": "34d3bbf7-d6e8-42f4-8ebd-87a1eca7642d"
      },
      "source": [
        "javaScript = 10201/1151281\n",
        "print(javaScript)\n",
        "android = 9288/870615\n",
        "print(android)\n",
        "java = 8829/2261370\n",
        "print(java)\n",
        "php = 7222/968777\n",
        "print(php)\n",
        "python = 5995/625159\n",
        "print(python)\n",
        "jquery = 5596/773582\n",
        "print(jquery)\n",
        "html = 4922/653914\n",
        "print(html)\n",
        "csharp = 4295/982275\n",
        "print(csharp)\n",
        "cplus = 4041/474558\n",
        "print(cplus)\n",
        "ios = 3918/483511\n",
        "print(ios)\n",
        "mysql = 3276/414605\n",
        "print(mysql)\n",
        "css = 2810/420586\n",
        "print(css)\n",
        "c = 4368/480058\n",
        "print(c)\n",
        "nodejs = 2056/126355\n",
        "print(nodejs)\n",
        "sql = 1761/335104\n",
        "print(sql)\n",
        "ruby_on_rails =  1708/280567\n",
        "print(ruby_on_rails)\n",
        "iphone = 1517/212863\n",
        "print(iphone)\n",
        "angular = 1497/190086\n",
        "print(angular)\n",
        "swift = 1452/102280\n",
        "print(swift)\n",
        "dotNet = 1408/233793\n",
        "print(dotNet)"
      ],
      "execution_count": 80,
      "outputs": [
        {
          "output_type": "stream",
          "text": [
            "0.008860564883812032\n",
            "0.010668320669871298\n",
            "0.003904270420143541\n",
            "0.00745475997056082\n",
            "0.009589560415830213\n",
            "0.007233880829698726\n",
            "0.007526983670635588\n",
            "0.004372502608739915\n",
            "0.008515292124461078\n",
            "0.008103228261611422\n",
            "0.007901496605202542\n",
            "0.006681154389351999\n",
            "0.009098900549516934\n",
            "0.01627161568596415\n",
            "0.005255084988540871\n",
            "0.006087672463261895\n",
            "0.007126649535147019\n",
            "0.007875382721505004\n",
            "0.014196323816973016\n",
            "0.006022421543844341\n"
          ],
          "name": "stdout"
        }
      ]
    },
    {
      "cell_type": "markdown",
      "metadata": {
        "id": "9BophnxARsUh"
      },
      "source": [
        "#Plotting RQ2 graph"
      ]
    },
    {
      "cell_type": "code",
      "metadata": {
        "colab": {
          "base_uri": "https://localhost:8080/",
          "height": 369
        },
        "id": "KH0vUa78-jPD",
        "outputId": "24290fd4-d289-4a25-be5e-8fb1165fa013"
      },
      "source": [
        "y = [javaScript , android, java , php , python , jquery , html , csharp , cplus,ios, mysql,css ,c,nodejs,sql,ruby_on_rails,iphone,angular,swift,dotNet]\n",
        "x = ['javascript','android','java','php','python','jquery','html','c#','c++','ios', 'mysql', 'css', 'c','node.js', 'sql','ruby-on-rails','iphone','angular','swift','.net']\n",
        "f = []\n",
        "dtaframe = pd.DataFrame({'x':x,'y':y})\n",
        "df_sorted= dtaframe.sort_values('y',ascending=False)\n",
        "fig, ax = plt.subplots()\n",
        "pps = plt.bar(df_sorted['x'], df_sorted['y'], align='center')\n",
        "plt.xticks(rotation = 90)\n",
        "for p in pps:\n",
        "     height = p.get_height()\n",
        "     height1 = '('+str(height) + ')'\n",
        "     text = \"{:.4f}%\".format(height)\n",
        "     ax.text(p.get_x() + p.get_width()/2., 1.01*height,\n",
        "                 text, ha='center', va='bottom',rotation = 90)\n",
        "    #  ax.text(i,v,\"\",fontsize=18,color='red')\n",
        "plt.xlabel('Top 20 tags')\n",
        "plt.ylabel('Proportion of obsolete answers')\n",
        "plt.show()"
      ],
      "execution_count": 81,
      "outputs": [
        {
          "output_type": "display_data",
          "data": {
            "image/png": "[encoded data removed]",
            "text/plain": [
              "<Figure size 432x288 with 1 Axes>"
            ]
          },
          "metadata": {
            "needs_background": "light"
          }
        }
      ]
    },
    {
      "cell_type": "code",
      "metadata": {
        "colab": {
          "base_uri": "https://localhost:8080/",
          "height": 1000
        },
        "id": "9Dm-hoVFexyc",
        "outputId": "cda57f90-3e41-4142-be56-f9b5b16f2b77"
      },
      "source": [
        "df = df.drop_duplicates(subset=['post_id'])\n",
        "df"
      ],
      "execution_count": 83,
      "outputs": [
        {
          "output_type": "execute_result",
          "data": {
            "text/html": [
              "<div>\n",
              "<style scoped>\n",
              "    .dataframe tbody tr th:only-of-type {\n",
              "        vertical-align: middle;\n",
              "    }\n",
              "\n",
              "    .dataframe tbody tr th {\n",
              "        vertical-align: top;\n",
              "    }\n",
              "\n",
              "    .dataframe thead th {\n",
              "        text-align: right;\n",
              "    }\n",
              "</style>\n",
              "<table border=\"1\" class=\"dataframe\">\n",
              "  <thead>\n",
              "    <tr style=\"text-align: right;\">\n",
              "      <th></th>\n",
              "      <th>Id</th>\n",
              "      <th>comment_user_id</th>\n",
              "      <th>post_id</th>\n",
              "      <th>Score</th>\n",
              "      <th>Creation_Date</th>\n",
              "      <th>Text</th>\n",
              "      <th>last_edit_date</th>\n",
              "      <th>last_activity_date</th>\n",
              "      <th>Id_1</th>\n",
              "      <th>Creation_Date_1</th>\n",
              "      <th>Score_1</th>\n",
              "      <th>tags</th>\n",
              "      <th>body</th>\n",
              "      <th>answer_post_type_id</th>\n",
              "      <th>question_posty_type_id</th>\n",
              "      <th>question_user_id</th>\n",
              "      <th>answer_user_id</th>\n",
              "    </tr>\n",
              "  </thead>\n",
              "  <tbody>\n",
              "    <tr>\n",
              "      <th>0</th>\n",
              "      <td>16881976</td>\n",
              "      <td>725418.0</td>\n",
              "      <td>12537730</td>\n",
              "      <td>2</td>\n",
              "      <td>2012-09-21 20:29:46.997 UTC</td>\n",
              "      <td>Backticks are deprecated? Do you have a source...</td>\n",
              "      <td>NaN</td>\n",
              "      <td>2012-09-21 20:27:41.093 UTC</td>\n",
              "      <td>12537730</td>\n",
              "      <td>2012-09-21 20:27:41.093 UTC</td>\n",
              "      <td>-4</td>\n",
              "      <td>perl|sh|backticks</td>\n",
              "      <td>&lt;p&gt;I'm experiencing some problems trying to ca...</td>\n",
              "      <td>2</td>\n",
              "      <td>1</td>\n",
              "      <td>667147.0</td>\n",
              "      <td>368630.0</td>\n",
              "    </tr>\n",
              "    <tr>\n",
              "      <th>2</th>\n",
              "      <td>50454015</td>\n",
              "      <td>863110.0</td>\n",
              "      <td>12597700</td>\n",
              "      <td>1</td>\n",
              "      <td>2015-07-05 04:49:22.963 UTC</td>\n",
              "      <td>fnRender was deprecated! use mRender / mData. ...</td>\n",
              "      <td>2012-09-26 08:55:30.957 UTC</td>\n",
              "      <td>2012-09-26 08:55:30.957 UTC</td>\n",
              "      <td>12597700</td>\n",
              "      <td>2012-09-26 08:36:00.583 UTC</td>\n",
              "      <td>23</td>\n",
              "      <td>jquery|datatables</td>\n",
              "      <td>&lt;p&gt;I am new to JQuery. \\nCan anyone tell me ho...</td>\n",
              "      <td>2</td>\n",
              "      <td>1</td>\n",
              "      <td>1699464.0</td>\n",
              "      <td>570897.0</td>\n",
              "    </tr>\n",
              "    <tr>\n",
              "      <th>3</th>\n",
              "      <td>20633131</td>\n",
              "      <td>355540.0</td>\n",
              "      <td>13465185</td>\n",
              "      <td>0</td>\n",
              "      <td>2013-02-07 05:56:49.43 UTC</td>\n",
              "      <td>Removing the outdated gem fixed the issue for me.</td>\n",
              "      <td>2012-11-29 13:11:23.69 UTC</td>\n",
              "      <td>2012-11-29 13:11:23.69 UTC</td>\n",
              "      <td>13465185</td>\n",
              "      <td>2012-11-20 01:14:25.633 UTC</td>\n",
              "      <td>21</td>\n",
              "      <td>heroku</td>\n",
              "      <td>&lt;p&gt;I get an \"Could not find RubyGem heroku (Ge...</td>\n",
              "      <td>2</td>\n",
              "      <td>1</td>\n",
              "      <td>646607.0</td>\n",
              "      <td>832.0</td>\n",
              "    </tr>\n",
              "    <tr>\n",
              "      <th>4</th>\n",
              "      <td>16849185</td>\n",
              "      <td>343204.0</td>\n",
              "      <td>12500215</td>\n",
              "      <td>3</td>\n",
              "      <td>2012-09-20 16:56:35.233 UTC</td>\n",
              "      <td>First: works beautifully. Second gives: WARNIN...</td>\n",
              "      <td>2014-04-15 20:44:10.09 UTC</td>\n",
              "      <td>2014-04-15 20:44:10.09 UTC</td>\n",
              "      <td>12500215</td>\n",
              "      <td>2012-09-19 17:52:00.447 UTC</td>\n",
              "      <td>21</td>\n",
              "      <td>ruby-on-rails-3|rake</td>\n",
              "      <td>&lt;p&gt;I'm trying to pass arguments to a Rake task...</td>\n",
              "      <td>2</td>\n",
              "      <td>1</td>\n",
              "      <td>343204.0</td>\n",
              "      <td>382818.0</td>\n",
              "    </tr>\n",
              "    <tr>\n",
              "      <th>5</th>\n",
              "      <td>16170105</td>\n",
              "      <td>157882.0</td>\n",
              "      <td>12099039</td>\n",
              "      <td>1</td>\n",
              "      <td>2012-08-23 20:08:01.083 UTC</td>\n",
              "      <td>@Jake: `setAction()` is the [deprecated](http:...</td>\n",
              "      <td>2017-05-23 12:22:46.123 UTC</td>\n",
              "      <td>2016-04-27 17:03:31.733 UTC</td>\n",
              "      <td>12099039</td>\n",
              "      <td>2012-08-23 19:55:41.83 UTC</td>\n",
              "      <td>19</td>\n",
              "      <td>jsf|dynamic|jsf-2|action</td>\n",
              "      <td>&lt;p&gt;I'm trying to add JSF &lt;code&gt;&amp;lt;h:commandBu...</td>\n",
              "      <td>2</td>\n",
              "      <td>1</td>\n",
              "      <td>1569498.0</td>\n",
              "      <td>157882.0</td>\n",
              "    </tr>\n",
              "    <tr>\n",
              "      <th>...</th>\n",
              "      <td>...</td>\n",
              "      <td>...</td>\n",
              "      <td>...</td>\n",
              "      <td>...</td>\n",
              "      <td>...</td>\n",
              "      <td>...</td>\n",
              "      <td>...</td>\n",
              "      <td>...</td>\n",
              "      <td>...</td>\n",
              "      <td>...</td>\n",
              "      <td>...</td>\n",
              "      <td>...</td>\n",
              "      <td>...</td>\n",
              "      <td>...</td>\n",
              "      <td>...</td>\n",
              "      <td>...</td>\n",
              "      <td>...</td>\n",
              "    </tr>\n",
              "    <tr>\n",
              "      <th>103314</th>\n",
              "      <td>41543596</td>\n",
              "      <td>3698561.0</td>\n",
              "      <td>26451149</td>\n",
              "      <td>0</td>\n",
              "      <td>2014-10-19 13:50:06.603 UTC</td>\n",
              "      <td>deprecated, please look at the API before post...</td>\n",
              "      <td>NaN</td>\n",
              "      <td>2014-10-19 13:47:15.167 UTC</td>\n",
              "      <td>26451149</td>\n",
              "      <td>2014-10-19 13:47:15.167 UTC</td>\n",
              "      <td>-1</td>\n",
              "      <td>java|android|function|button|android-activity</td>\n",
              "      <td>&lt;p&gt;The question is simple, \\nHow to ignore set...</td>\n",
              "      <td>2</td>\n",
              "      <td>1</td>\n",
              "      <td>3953499.0</td>\n",
              "      <td>1688959.0</td>\n",
              "    </tr>\n",
              "    <tr>\n",
              "      <th>103319</th>\n",
              "      <td>41491730</td>\n",
              "      <td>19068.0</td>\n",
              "      <td>26423239</td>\n",
              "      <td>0</td>\n",
              "      <td>2014-10-17 10:40:43.653 UTC</td>\n",
              "      <td>That's quite out of date. And link-only answer...</td>\n",
              "      <td>2014-10-17 13:12:24.833 UTC</td>\n",
              "      <td>2014-10-17 13:12:24.833 UTC</td>\n",
              "      <td>26423239</td>\n",
              "      <td>2014-10-17 10:39:04.21 UTC</td>\n",
              "      <td>-1</td>\n",
              "      <td>javascript|internet-explorer|google-chrome|fir...</td>\n",
              "      <td>&lt;p&gt;&lt;strong&gt;REQUIREMENT:&lt;/strong&gt; I want to com...</td>\n",
              "      <td>2</td>\n",
              "      <td>1</td>\n",
              "      <td>2345960.0</td>\n",
              "      <td>2497000.0</td>\n",
              "    </tr>\n",
              "    <tr>\n",
              "      <th>103320</th>\n",
              "      <td>115072312</td>\n",
              "      <td>6025826.0</td>\n",
              "      <td>60867229</td>\n",
              "      <td>0</td>\n",
              "      <td>2020-12-01 11:26:56.623 UTC</td>\n",
              "      <td>Please explain your answer further. And the li...</td>\n",
              "      <td>NaN</td>\n",
              "      <td>2020-03-26 12:26:24.087 UTC</td>\n",
              "      <td>60867229</td>\n",
              "      <td>2020-03-26 12:26:24.087 UTC</td>\n",
              "      <td>-1</td>\n",
              "      <td>google-chrome|caching</td>\n",
              "      <td>&lt;p&gt;I am experiencing this weird issue where my...</td>\n",
              "      <td>2</td>\n",
              "      <td>1</td>\n",
              "      <td>1436171.0</td>\n",
              "      <td>1202683.0</td>\n",
              "    </tr>\n",
              "    <tr>\n",
              "      <th>103321</th>\n",
              "      <td>40727762</td>\n",
              "      <td>472495.0</td>\n",
              "      <td>26005310</td>\n",
              "      <td>4</td>\n",
              "      <td>2014-09-23 21:54:13.077 UTC</td>\n",
              "      <td>I don't recommend nesting MySQL calls, since t...</td>\n",
              "      <td>NaN</td>\n",
              "      <td>2014-09-23 21:52:58.5 UTC</td>\n",
              "      <td>26005310</td>\n",
              "      <td>2014-09-23 21:52:58.5 UTC</td>\n",
              "      <td>-1</td>\n",
              "      <td>php|sql</td>\n",
              "      <td>&lt;p&gt;I'm trying to use the following script in P...</td>\n",
              "      <td>2</td>\n",
              "      <td>1</td>\n",
              "      <td>4072313.0</td>\n",
              "      <td>733876.0</td>\n",
              "    </tr>\n",
              "    <tr>\n",
              "      <th>103322</th>\n",
              "      <td>45245946</td>\n",
              "      <td>3319611.0</td>\n",
              "      <td>28318362</td>\n",
              "      <td>0</td>\n",
              "      <td>2015-02-11 16:53:45.613 UTC</td>\n",
              "      <td>That link also leads to content relevant to cr...</td>\n",
              "      <td>NaN</td>\n",
              "      <td>2015-02-04 09:55:37.963 UTC</td>\n",
              "      <td>28318362</td>\n",
              "      <td>2015-02-04 09:55:37.963 UTC</td>\n",
              "      <td>-1</td>\n",
              "      <td>makefile|settings|project-template|build-syste...</td>\n",
              "      <td>&lt;p&gt;&amp;nbsp;&amp;nbsp;&amp;nbsp;&amp;nbsp;&amp;nbsp;How does one ...</td>\n",
              "      <td>2</td>\n",
              "      <td>1</td>\n",
              "      <td>3319611.0</td>\n",
              "      <td>4528012.0</td>\n",
              "    </tr>\n",
              "  </tbody>\n",
              "</table>\n",
              "<p>91572 rows × 17 columns</p>\n",
              "</div>"
            ],
            "text/plain": [
              "               Id  comment_user_id  ...  question_user_id  answer_user_id\n",
              "0        16881976         725418.0  ...          667147.0        368630.0\n",
              "2        50454015         863110.0  ...         1699464.0        570897.0\n",
              "3        20633131         355540.0  ...          646607.0           832.0\n",
              "4        16849185         343204.0  ...          343204.0        382818.0\n",
              "5        16170105         157882.0  ...         1569498.0        157882.0\n",
              "...           ...              ...  ...               ...             ...\n",
              "103314   41543596        3698561.0  ...         3953499.0       1688959.0\n",
              "103319   41491730          19068.0  ...         2345960.0       2497000.0\n",
              "103320  115072312        6025826.0  ...         1436171.0       1202683.0\n",
              "103321   40727762         472495.0  ...         4072313.0        733876.0\n",
              "103322   45245946        3319611.0  ...         3319611.0       4528012.0\n",
              "\n",
              "[91572 rows x 17 columns]"
            ]
          },
          "metadata": {},
          "execution_count": 83
        }
      ]
    },
    {
      "cell_type": "code",
      "metadata": {
        "colab": {
          "base_uri": "https://localhost:8080/"
        },
        "id": "a_ZFVLZPzuIN",
        "outputId": "7d743695-55ef-43b9-aa4b-7be2c32f260f"
      },
      "source": [
        "df.head(10)\n",
        "print(len(df))"
      ],
      "execution_count": 84,
      "outputs": [
        {
          "output_type": "stream",
          "text": [
            "91572\n"
          ],
          "name": "stdout"
        }
      ]
    },
    {
      "cell_type": "code",
      "metadata": {
        "id": "lj_oqcu_0f1H"
      },
      "source": [
        "drop = df['last_edit_date']"
      ],
      "execution_count": null,
      "outputs": []
    },
    {
      "cell_type": "code",
      "metadata": {
        "id": "OpFlMqzr1nDN"
      },
      "source": [
        "new = drop.dropna()"
      ],
      "execution_count": null,
      "outputs": []
    },
    {
      "cell_type": "code",
      "metadata": {
        "colab": {
          "base_uri": "https://localhost:8080/"
        },
        "id": "l5468SO6p169",
        "outputId": "5664653a-1dfe-4ace-8579-61f814a22ecd"
      },
      "source": [
        "len(new)"
      ],
      "execution_count": null,
      "outputs": [
        {
          "data": {
            "text/plain": [
              "52788"
            ]
          },
          "execution_count": 15,
          "metadata": {},
          "output_type": "execute_result"
        }
      ]
    },
    {
      "cell_type": "markdown",
      "metadata": {
        "id": "ORSPu2oFbDWE"
      },
      "source": [
        "#51.09% have updated their answers"
      ]
    },
    {
      "cell_type": "code",
      "metadata": {
        "colab": {
          "base_uri": "https://localhost:8080/"
        },
        "id": "MAakX8uR1xN_",
        "outputId": "6b4c1f58-9da0-4d5f-f8ff-7e8d1e012052"
      },
      "source": [
        "print((len(new)*100)/len(df))"
      ],
      "execution_count": null,
      "outputs": [
        {
          "name": "stdout",
          "output_type": "stream",
          "text": [
            "51.09027031735432\n"
          ]
        }
      ]
    },
    {
      "cell_type": "code",
      "metadata": {
        "colab": {
          "base_uri": "https://localhost:8080/"
        },
        "id": "8m3YBTw9MOiN",
        "outputId": "2648a661-356f-4f38-d684-158246a50dbb"
      },
      "source": [
        "len(df2)"
      ],
      "execution_count": null,
      "outputs": [
        {
          "data": {
            "text/plain": [
              "52788"
            ]
          },
          "execution_count": 17,
          "metadata": {},
          "output_type": "execute_result"
        }
      ]
    },
    {
      "cell_type": "code",
      "metadata": {
        "id": "7MVf_fU82SQf"
      },
      "source": [
        "datex=pd.to_datetime(df['last_activity_date'])\n",
        "datey = pd.to_datetime(df['last_edit_date'])\n",
        "timeBetweenDates = datey-datex"
      ],
      "execution_count": 85,
      "outputs": []
    },
    {
      "cell_type": "code",
      "metadata": {
        "id": "Zyps2JuR4hxv"
      },
      "source": [
        "countDays = 0\n",
        "for i in timeBetweenDates:\n",
        "  stri = str(i)\n",
        "  if(stri != 'NaT'):\n",
        "    x,y = stri.split('days')\n",
        "    x = int(x)\n",
        "    countDays += x"
      ],
      "execution_count": null,
      "outputs": []
    },
    {
      "cell_type": "markdown",
      "metadata": {
        "id": "cB5A0wGbtDHF"
      },
      "source": [
        "#It took average 122 Days to add new answer after an answer obsolence was observed"
      ]
    },
    {
      "cell_type": "code",
      "metadata": {
        "colab": {
          "base_uri": "https://localhost:8080/"
        },
        "id": "cZLmzKxB4v_D",
        "outputId": "aef7539a-1d11-48ed-d7b9-54160145f535"
      },
      "source": [
        "countDays/len(df2)"
      ],
      "execution_count": null,
      "outputs": [
        {
          "data": {
            "text/plain": [
              "122.22853678866409"
            ]
          },
          "execution_count": 31,
          "metadata": {},
          "output_type": "execute_result"
        }
      ]
    },
    {
      "cell_type": "markdown",
      "metadata": {
        "id": "vzqHzIfwvmUm"
      },
      "source": [
        "#RQ4\n"
      ]
    },
    {
      "cell_type": "markdown",
      "metadata": {
        "id": "6Nc4HyxG1k5j"
      },
      "source": [
        "#Finding asker: If comment used id is same as question user id then we considered as asker observes obsolete"
      ]
    },
    {
      "cell_type": "code",
      "metadata": {
        "colab": {
          "base_uri": "https://localhost:8080/"
        },
        "id": "E3nOu1ur2pVg",
        "outputId": "94f41f04-08a3-4a95-9585-62c2eff7e4d2"
      },
      "source": [
        "y = []\n",
        "y1 = []\n",
        "count1 = 0 \n",
        "for i in df.index:  \n",
        "   if(df['comment_user_id'][i] == df['question_user_id'][i]):\n",
        "     count1 += 1\n",
        "print((count1/103323)*100) \n",
        "y.append(count1)\n",
        "c = \"{:.1f}\".format((count1/91572)*100)\n",
        "y1.append(c)\n",
        "  "
      ],
      "execution_count": 6,
      "outputs": [
        {
          "output_type": "stream",
          "text": [
            "18.789620897573627\n"
          ],
          "name": "stdout"
        }
      ]
    },
    {
      "cell_type": "code",
      "metadata": {
        "colab": {
          "base_uri": "https://localhost:8080/"
        },
        "id": "VuXS7C1Z6tSF",
        "outputId": "c4e80635-bf8a-4edb-9f67-f71667065bc5"
      },
      "source": [
        "print(y1)"
      ],
      "execution_count": 7,
      "outputs": [
        {
          "output_type": "stream",
          "text": [
            "['21.2']\n"
          ],
          "name": "stdout"
        }
      ]
    },
    {
      "cell_type": "markdown",
      "metadata": {
        "id": "CB9ueO2l2rZb"
      },
      "source": [
        "# Finding Answerer: If comment used id is same as answer user id then we considered as answerer observes obsolete \n"
      ]
    },
    {
      "cell_type": "code",
      "metadata": {
        "id": "6xEFEneavoJS"
      },
      "source": [
        "count =0 \n",
        "for i in df.index:  \n",
        "   if(df['comment_user_id'][i] == df['answer_user_id'][i]):\n",
        "     count += 1\n",
        "y.append(count)\n",
        "c = \"{:.1f}\".format((count/91572)*100)\n",
        "y1.append(c)\n",
        "  "
      ],
      "execution_count": 8,
      "outputs": []
    },
    {
      "cell_type": "code",
      "metadata": {
        "colab": {
          "base_uri": "https://localhost:8080/"
        },
        "id": "HwSJHg0VyVpt",
        "outputId": "33bd4e1b-7b82-4738-a718-2eadb1e9e4cb"
      },
      "source": [
        "print(count)\n",
        "print((count/91572)*100)\n",
        "print(y1)"
      ],
      "execution_count": 9,
      "outputs": [
        {
          "output_type": "stream",
          "text": [
            "19599\n",
            "21.40283055955969\n",
            "['21.2', '21.4']\n"
          ],
          "name": "stdout"
        }
      ]
    },
    {
      "cell_type": "markdown",
      "metadata": {
        "id": "GdKV_5eycHp4"
      },
      "source": [
        ""
      ]
    },
    {
      "cell_type": "markdown",
      "metadata": {
        "id": "AlEvVDKitrai"
      },
      "source": [
        "#Other answerer"
      ]
    },
    {
      "cell_type": "code",
      "metadata": {
        "colab": {
          "base_uri": "https://localhost:8080/"
        },
        "id": "AYRTVGEyti8r",
        "outputId": "0247e856-8aaf-433b-da81-7ac4aa81b523"
      },
      "source": [
        "count2 = 0\n",
        "for i in df.index:  \n",
        "   if df['comment_user_id'][i] != df['answer_user_id'][i] and df['comment_user_id'][i] != df['question_user_id'][i]:\n",
        "      count2+=1\n",
        "print(count2)\n",
        "y.append(count2)\n",
        "c = \"{:.1f}\".format((count2/91572)*100)\n",
        "y1.append(c)"
      ],
      "execution_count": 10,
      "outputs": [
        {
          "output_type": "stream",
          "text": [
            "53092\n"
          ],
          "name": "stdout"
        }
      ]
    },
    {
      "cell_type": "code",
      "metadata": {
        "colab": {
          "base_uri": "https://localhost:8080/"
        },
        "id": "YUpxVcrb0f82",
        "outputId": "6c4c4ace-4042-4eae-8a32-ad36bb67a503"
      },
      "source": [
        "print(y,y1)"
      ],
      "execution_count": 11,
      "outputs": [
        {
          "output_type": "stream",
          "text": [
            "[19414, 19599, 53092] ['21.2', '21.4', '58.0']\n"
          ],
          "name": "stdout"
        }
      ]
    },
    {
      "cell_type": "code",
      "metadata": {
        "id": "ypMOqu8N2R0e"
      },
      "source": [
        "x = ['Asker','Answerer','AllOtherCommenter']"
      ],
      "execution_count": 12,
      "outputs": []
    },
    {
      "cell_type": "code",
      "metadata": {
        "colab": {
          "base_uri": "https://localhost:8080/",
          "height": 368
        },
        "id": "FmUoZkeT3O9M",
        "outputId": "fdefe658-79cc-4754-b548-d73eeb9d1460"
      },
      "source": [
        "import matplotlib.pyplot as plt\n",
        "i = 0\n",
        "fig, ax = plt.subplots()\n",
        "pps = ax.bar(x, y, align='center')\n",
        "plt.xticks(rotation = 45)\n",
        "for p in pps:\n",
        "    height = p.get_height()\n",
        "    height1 = '('+str(height)+')'\n",
        "    text = \"{:} {}%\".format(height1,y1[i])\n",
        "    ax.text(p.get_x() + p.get_width()/4., height,\n",
        "                text, ha='center', va='bottom',rotation = 30)\n",
        "    #ax.text(i,v,\"\",fontsize=18,color='red')\n",
        "    i += 1\n",
        "plt.show()"
      ],
      "execution_count": 13,
      "outputs": [
        {
          "output_type": "display_data",
          "data": {
            "image/png": "[encoded data removed]",
            "text/plain": [
              "<Figure size 432x288 with 1 Axes>"
            ]
          },
          "metadata": {
            "needs_background": "light"
          }
        }
      ]
    },
    {
      "cell_type": "markdown",
      "metadata": {
        "id": "eiMfCj6y1Z-p"
      },
      "source": [
        "#Qualitative Analysis Result"
      ]
    },
    {
      "cell_type": "code",
      "metadata": {
        "id": "QUYizo4umH9u"
      },
      "source": [
        "data = pd.read_csv('/content/gdrive/MyDrive/SE/final_qualitative_data.csv')"
      ],
      "execution_count": 6,
      "outputs": []
    },
    {
      "cell_type": "code",
      "metadata": {
        "colab": {
          "base_uri": "https://localhost:8080/",
          "height": 417
        },
        "id": "ItqhAuGf143o",
        "outputId": "ba101fbd-13f3-414b-8683-050f73857911"
      },
      "source": [
        "data"
      ],
      "execution_count": 7,
      "outputs": [
        {
          "output_type": "execute_result",
          "data": {
            "text/html": [
              "<div>\n",
              "<style scoped>\n",
              "    .dataframe tbody tr th:only-of-type {\n",
              "        vertical-align: middle;\n",
              "    }\n",
              "\n",
              "    .dataframe tbody tr th {\n",
              "        vertical-align: top;\n",
              "    }\n",
              "\n",
              "    .dataframe thead th {\n",
              "        text-align: right;\n",
              "    }\n",
              "</style>\n",
              "<table border=\"1\" class=\"dataframe\">\n",
              "  <thead>\n",
              "    <tr style=\"text-align: right;\">\n",
              "      <th></th>\n",
              "      <th>CommentID</th>\n",
              "      <th>text</th>\n",
              "      <th>CommentUserID</th>\n",
              "      <th>CommentDate</th>\n",
              "      <th>Keyword</th>\n",
              "      <th>ObsoleteType</th>\n",
              "      <th>LegacyOrInvalid</th>\n",
              "    </tr>\n",
              "  </thead>\n",
              "  <tbody>\n",
              "    <tr>\n",
              "      <th>0</th>\n",
              "      <td>76497349.0</td>\n",
              "      <td>a) RFC 2616 is obsolete, see RFCs 723* instead...</td>\n",
              "      <td>50543.0</td>\n",
              "      <td>6/26/2017 11:13</td>\n",
              "      <td>obsolete</td>\n",
              "      <td>protocol</td>\n",
              "      <td>invalid</td>\n",
              "    </tr>\n",
              "    <tr>\n",
              "      <th>1</th>\n",
              "      <td>71071328.0</td>\n",
              "      <td>I lost an hour because I used above syntax whi...</td>\n",
              "      <td>534471.0</td>\n",
              "      <td>1/30/2017 21:18</td>\n",
              "      <td>obsolete</td>\n",
              "      <td>tool</td>\n",
              "      <td>invalid</td>\n",
              "    </tr>\n",
              "    <tr>\n",
              "      <th>2</th>\n",
              "      <td>72643452.0</td>\n",
              "      <td>I am sorry but that doesn't solve my problem a...</td>\n",
              "      <td>1136905.0</td>\n",
              "      <td>3/13/2017 12:55</td>\n",
              "      <td>obsolete</td>\n",
              "      <td>ext</td>\n",
              "      <td>invalid</td>\n",
              "    </tr>\n",
              "    <tr>\n",
              "      <th>3</th>\n",
              "      <td>53034422.0</td>\n",
              "      <td>Make sure you've got the spacing correct. For ...</td>\n",
              "      <td>113962.0</td>\n",
              "      <td>9/15/2015 15:46</td>\n",
              "      <td>obsolete</td>\n",
              "      <td>ext</td>\n",
              "      <td>invalid</td>\n",
              "    </tr>\n",
              "    <tr>\n",
              "      <th>4</th>\n",
              "      <td>25828876.0</td>\n",
              "      <td>Old and obsolete method, unreliable also. @mkd...</td>\n",
              "      <td>693806.0</td>\n",
              "      <td>7/18/2013 10:24</td>\n",
              "      <td>obsolete</td>\n",
              "      <td>lang</td>\n",
              "      <td>legacy</td>\n",
              "    </tr>\n",
              "    <tr>\n",
              "      <th>...</th>\n",
              "      <td>...</td>\n",
              "      <td>...</td>\n",
              "      <td>...</td>\n",
              "      <td>...</td>\n",
              "      <td>...</td>\n",
              "      <td>...</td>\n",
              "      <td>...</td>\n",
              "    </tr>\n",
              "    <tr>\n",
              "      <th>645</th>\n",
              "      <td>42788125.0</td>\n",
              "      <td>@kais: Of course it is. I've updated the answe...</td>\n",
              "      <td>157247.0</td>\n",
              "      <td>11/26/2014 10:09</td>\n",
              "      <td>out_of_date</td>\n",
              "      <td>lang</td>\n",
              "      <td>legacy</td>\n",
              "    </tr>\n",
              "    <tr>\n",
              "      <th>646</th>\n",
              "      <td>21491872.0</td>\n",
              "      <td>W3Schools often contains out of date and incor...</td>\n",
              "      <td>584192.0</td>\n",
              "      <td>03-06-2013 08:23</td>\n",
              "      <td>out_of_date</td>\n",
              "      <td>ref/lang</td>\n",
              "      <td>invalid</td>\n",
              "    </tr>\n",
              "    <tr>\n",
              "      <th>647</th>\n",
              "      <td>30908356.0</td>\n",
              "      <td>Hi Satish, after discussing the issue with Wor...</td>\n",
              "      <td>1851636.0</td>\n",
              "      <td>12/17/2013 23:26</td>\n",
              "      <td>out_of_date</td>\n",
              "      <td>ext</td>\n",
              "      <td>legacy</td>\n",
              "    </tr>\n",
              "    <tr>\n",
              "      <th>648</th>\n",
              "      <td>61824498.0</td>\n",
              "      <td>Ben Alman's plugin is quite a bit out of date....</td>\n",
              "      <td>471924.0</td>\n",
              "      <td>05-10-2016 15:37</td>\n",
              "      <td>out_of_date</td>\n",
              "      <td>tool</td>\n",
              "      <td>invalid</td>\n",
              "    </tr>\n",
              "    <tr>\n",
              "      <th>649</th>\n",
              "      <td>60064758.0</td>\n",
              "      <td>@mksteve That documentation is out of date and...</td>\n",
              "      <td>505088.0</td>\n",
              "      <td>3/25/2016 8:15</td>\n",
              "      <td>out_of_date</td>\n",
              "      <td>ref</td>\n",
              "      <td>legacy</td>\n",
              "    </tr>\n",
              "  </tbody>\n",
              "</table>\n",
              "<p>650 rows × 7 columns</p>\n",
              "</div>"
            ],
            "text/plain": [
              "      CommentID  ... LegacyOrInvalid\n",
              "0    76497349.0  ...         invalid\n",
              "1    71071328.0  ...         invalid\n",
              "2    72643452.0  ...         invalid\n",
              "3    53034422.0  ...         invalid\n",
              "4    25828876.0  ...          legacy\n",
              "..          ...  ...             ...\n",
              "645  42788125.0  ...          legacy\n",
              "646  21491872.0  ...         invalid\n",
              "647  30908356.0  ...          legacy\n",
              "648  61824498.0  ...         invalid\n",
              "649  60064758.0  ...          legacy\n",
              "\n",
              "[650 rows x 7 columns]"
            ]
          },
          "metadata": {},
          "execution_count": 7
        }
      ]
    },
    {
      "cell_type": "markdown",
      "metadata": {
        "id": "FCzK-ej03DXd"
      },
      "source": [
        "#Converting LegactOrInvalid into lower case"
      ]
    },
    {
      "cell_type": "code",
      "metadata": {
        "colab": {
          "base_uri": "https://localhost:8080/",
          "height": 417
        },
        "id": "0pyRMK2426Fr",
        "outputId": "aec08eee-3d7f-46e6-e51c-e44412b3c8e3"
      },
      "source": [
        "data['LegacyOrInvalid'] = data['LegacyOrInvalid'].str.lower()\n",
        "data"
      ],
      "execution_count": 8,
      "outputs": [
        {
          "output_type": "execute_result",
          "data": {
            "text/html": [
              "<div>\n",
              "<style scoped>\n",
              "    .dataframe tbody tr th:only-of-type {\n",
              "        vertical-align: middle;\n",
              "    }\n",
              "\n",
              "    .dataframe tbody tr th {\n",
              "        vertical-align: top;\n",
              "    }\n",
              "\n",
              "    .dataframe thead th {\n",
              "        text-align: right;\n",
              "    }\n",
              "</style>\n",
              "<table border=\"1\" class=\"dataframe\">\n",
              "  <thead>\n",
              "    <tr style=\"text-align: right;\">\n",
              "      <th></th>\n",
              "      <th>CommentID</th>\n",
              "      <th>text</th>\n",
              "      <th>CommentUserID</th>\n",
              "      <th>CommentDate</th>\n",
              "      <th>Keyword</th>\n",
              "      <th>ObsoleteType</th>\n",
              "      <th>LegacyOrInvalid</th>\n",
              "    </tr>\n",
              "  </thead>\n",
              "  <tbody>\n",
              "    <tr>\n",
              "      <th>0</th>\n",
              "      <td>76497349.0</td>\n",
              "      <td>a) RFC 2616 is obsolete, see RFCs 723* instead...</td>\n",
              "      <td>50543.0</td>\n",
              "      <td>6/26/2017 11:13</td>\n",
              "      <td>obsolete</td>\n",
              "      <td>protocol</td>\n",
              "      <td>invalid</td>\n",
              "    </tr>\n",
              "    <tr>\n",
              "      <th>1</th>\n",
              "      <td>71071328.0</td>\n",
              "      <td>I lost an hour because I used above syntax whi...</td>\n",
              "      <td>534471.0</td>\n",
              "      <td>1/30/2017 21:18</td>\n",
              "      <td>obsolete</td>\n",
              "      <td>tool</td>\n",
              "      <td>invalid</td>\n",
              "    </tr>\n",
              "    <tr>\n",
              "      <th>2</th>\n",
              "      <td>72643452.0</td>\n",
              "      <td>I am sorry but that doesn't solve my problem a...</td>\n",
              "      <td>1136905.0</td>\n",
              "      <td>3/13/2017 12:55</td>\n",
              "      <td>obsolete</td>\n",
              "      <td>ext</td>\n",
              "      <td>invalid</td>\n",
              "    </tr>\n",
              "    <tr>\n",
              "      <th>3</th>\n",
              "      <td>53034422.0</td>\n",
              "      <td>Make sure you've got the spacing correct. For ...</td>\n",
              "      <td>113962.0</td>\n",
              "      <td>9/15/2015 15:46</td>\n",
              "      <td>obsolete</td>\n",
              "      <td>ext</td>\n",
              "      <td>invalid</td>\n",
              "    </tr>\n",
              "    <tr>\n",
              "      <th>4</th>\n",
              "      <td>25828876.0</td>\n",
              "      <td>Old and obsolete method, unreliable also. @mkd...</td>\n",
              "      <td>693806.0</td>\n",
              "      <td>7/18/2013 10:24</td>\n",
              "      <td>obsolete</td>\n",
              "      <td>lang</td>\n",
              "      <td>legacy</td>\n",
              "    </tr>\n",
              "    <tr>\n",
              "      <th>...</th>\n",
              "      <td>...</td>\n",
              "      <td>...</td>\n",
              "      <td>...</td>\n",
              "      <td>...</td>\n",
              "      <td>...</td>\n",
              "      <td>...</td>\n",
              "      <td>...</td>\n",
              "    </tr>\n",
              "    <tr>\n",
              "      <th>645</th>\n",
              "      <td>42788125.0</td>\n",
              "      <td>@kais: Of course it is. I've updated the answe...</td>\n",
              "      <td>157247.0</td>\n",
              "      <td>11/26/2014 10:09</td>\n",
              "      <td>out_of_date</td>\n",
              "      <td>lang</td>\n",
              "      <td>legacy</td>\n",
              "    </tr>\n",
              "    <tr>\n",
              "      <th>646</th>\n",
              "      <td>21491872.0</td>\n",
              "      <td>W3Schools often contains out of date and incor...</td>\n",
              "      <td>584192.0</td>\n",
              "      <td>03-06-2013 08:23</td>\n",
              "      <td>out_of_date</td>\n",
              "      <td>ref/lang</td>\n",
              "      <td>invalid</td>\n",
              "    </tr>\n",
              "    <tr>\n",
              "      <th>647</th>\n",
              "      <td>30908356.0</td>\n",
              "      <td>Hi Satish, after discussing the issue with Wor...</td>\n",
              "      <td>1851636.0</td>\n",
              "      <td>12/17/2013 23:26</td>\n",
              "      <td>out_of_date</td>\n",
              "      <td>ext</td>\n",
              "      <td>legacy</td>\n",
              "    </tr>\n",
              "    <tr>\n",
              "      <th>648</th>\n",
              "      <td>61824498.0</td>\n",
              "      <td>Ben Alman's plugin is quite a bit out of date....</td>\n",
              "      <td>471924.0</td>\n",
              "      <td>05-10-2016 15:37</td>\n",
              "      <td>out_of_date</td>\n",
              "      <td>tool</td>\n",
              "      <td>invalid</td>\n",
              "    </tr>\n",
              "    <tr>\n",
              "      <th>649</th>\n",
              "      <td>60064758.0</td>\n",
              "      <td>@mksteve That documentation is out of date and...</td>\n",
              "      <td>505088.0</td>\n",
              "      <td>3/25/2016 8:15</td>\n",
              "      <td>out_of_date</td>\n",
              "      <td>ref</td>\n",
              "      <td>legacy</td>\n",
              "    </tr>\n",
              "  </tbody>\n",
              "</table>\n",
              "<p>650 rows × 7 columns</p>\n",
              "</div>"
            ],
            "text/plain": [
              "      CommentID  ... LegacyOrInvalid\n",
              "0    76497349.0  ...         invalid\n",
              "1    71071328.0  ...         invalid\n",
              "2    72643452.0  ...         invalid\n",
              "3    53034422.0  ...         invalid\n",
              "4    25828876.0  ...          legacy\n",
              "..          ...  ...             ...\n",
              "645  42788125.0  ...          legacy\n",
              "646  21491872.0  ...         invalid\n",
              "647  30908356.0  ...          legacy\n",
              "648  61824498.0  ...         invalid\n",
              "649  60064758.0  ...          legacy\n",
              "\n",
              "[650 rows x 7 columns]"
            ]
          },
          "metadata": {},
          "execution_count": 8
        }
      ]
    },
    {
      "cell_type": "code",
      "metadata": {
        "colab": {
          "base_uri": "https://localhost:8080/"
        },
        "id": "CK4pzoGu3Kl8",
        "outputId": "46d41e72-613e-4ace-9446-3a965741d9a9"
      },
      "source": [
        "data_split = data.groupby('LegacyOrInvalid')\n",
        "for a,b in data_split:\n",
        "    if a == 'invalid':\n",
        "        data_invalid = b\n",
        "    elif a == 'legacy':\n",
        "        data_legacy = b\n",
        "        \n",
        "print(data_invalid) \n",
        "print(\"------------------------------------------------------------------------------------------------------------\")\n",
        "print(data_legacy)"
      ],
      "execution_count": 9,
      "outputs": [
        {
          "output_type": "stream",
          "text": [
            "      CommentID  ... LegacyOrInvalid\n",
            "0    76497349.0  ...         invalid\n",
            "1    71071328.0  ...         invalid\n",
            "2    72643452.0  ...         invalid\n",
            "3    53034422.0  ...         invalid\n",
            "6    75029007.0  ...         invalid\n",
            "..          ...  ...             ...\n",
            "639  27805085.0  ...         invalid\n",
            "641  46514794.0  ...         invalid\n",
            "643  56423259.0  ...         invalid\n",
            "646  21491872.0  ...         invalid\n",
            "648  61824498.0  ...         invalid\n",
            "\n",
            "[215 rows x 7 columns]\n",
            "------------------------------------------------------------------------------------------------------------\n",
            "      CommentID  ... LegacyOrInvalid\n",
            "4    25828876.0  ...          legacy\n",
            "5    23142158.0  ...          legacy\n",
            "7     4561624.0  ...          legacy\n",
            "9    59096987.0  ...          legacy\n",
            "12   46887979.0  ...          legacy\n",
            "..          ...  ...             ...\n",
            "642  37915328.0  ...          legacy\n",
            "644  24625005.0  ...          legacy\n",
            "645  42788125.0  ...          legacy\n",
            "647  30908356.0  ...          legacy\n",
            "649  60064758.0  ...          legacy\n",
            "\n",
            "[371 rows x 7 columns]\n"
          ],
          "name": "stdout"
        }
      ]
    },
    {
      "cell_type": "markdown",
      "metadata": {
        "id": "xFrtemKR3WFO"
      },
      "source": [
        "# This section is for invalid"
      ]
    },
    {
      "cell_type": "code",
      "metadata": {
        "colab": {
          "base_uri": "https://localhost:8080/",
          "height": 203
        },
        "id": "4eWeEJuH3Ne-",
        "outputId": "be614abf-3fe0-4169-e527-25c2f44db794"
      },
      "source": [
        "data_invalid.head()"
      ],
      "execution_count": 10,
      "outputs": [
        {
          "output_type": "execute_result",
          "data": {
            "text/html": [
              "<div>\n",
              "<style scoped>\n",
              "    .dataframe tbody tr th:only-of-type {\n",
              "        vertical-align: middle;\n",
              "    }\n",
              "\n",
              "    .dataframe tbody tr th {\n",
              "        vertical-align: top;\n",
              "    }\n",
              "\n",
              "    .dataframe thead th {\n",
              "        text-align: right;\n",
              "    }\n",
              "</style>\n",
              "<table border=\"1\" class=\"dataframe\">\n",
              "  <thead>\n",
              "    <tr style=\"text-align: right;\">\n",
              "      <th></th>\n",
              "      <th>CommentID</th>\n",
              "      <th>text</th>\n",
              "      <th>CommentUserID</th>\n",
              "      <th>CommentDate</th>\n",
              "      <th>Keyword</th>\n",
              "      <th>ObsoleteType</th>\n",
              "      <th>LegacyOrInvalid</th>\n",
              "    </tr>\n",
              "  </thead>\n",
              "  <tbody>\n",
              "    <tr>\n",
              "      <th>0</th>\n",
              "      <td>76497349.0</td>\n",
              "      <td>a) RFC 2616 is obsolete, see RFCs 723* instead...</td>\n",
              "      <td>50543.0</td>\n",
              "      <td>6/26/2017 11:13</td>\n",
              "      <td>obsolete</td>\n",
              "      <td>protocol</td>\n",
              "      <td>invalid</td>\n",
              "    </tr>\n",
              "    <tr>\n",
              "      <th>1</th>\n",
              "      <td>71071328.0</td>\n",
              "      <td>I lost an hour because I used above syntax whi...</td>\n",
              "      <td>534471.0</td>\n",
              "      <td>1/30/2017 21:18</td>\n",
              "      <td>obsolete</td>\n",
              "      <td>tool</td>\n",
              "      <td>invalid</td>\n",
              "    </tr>\n",
              "    <tr>\n",
              "      <th>2</th>\n",
              "      <td>72643452.0</td>\n",
              "      <td>I am sorry but that doesn't solve my problem a...</td>\n",
              "      <td>1136905.0</td>\n",
              "      <td>3/13/2017 12:55</td>\n",
              "      <td>obsolete</td>\n",
              "      <td>ext</td>\n",
              "      <td>invalid</td>\n",
              "    </tr>\n",
              "    <tr>\n",
              "      <th>3</th>\n",
              "      <td>53034422.0</td>\n",
              "      <td>Make sure you've got the spacing correct. For ...</td>\n",
              "      <td>113962.0</td>\n",
              "      <td>9/15/2015 15:46</td>\n",
              "      <td>obsolete</td>\n",
              "      <td>ext</td>\n",
              "      <td>invalid</td>\n",
              "    </tr>\n",
              "    <tr>\n",
              "      <th>6</th>\n",
              "      <td>75029007.0</td>\n",
              "      <td>I don't agree, could you please refer to [this...</td>\n",
              "      <td>7597141.0</td>\n",
              "      <td>5/16/2017 11:37</td>\n",
              "      <td>obsolete</td>\n",
              "      <td>tool</td>\n",
              "      <td>invalid</td>\n",
              "    </tr>\n",
              "  </tbody>\n",
              "</table>\n",
              "</div>"
            ],
            "text/plain": [
              "    CommentID  ... LegacyOrInvalid\n",
              "0  76497349.0  ...         invalid\n",
              "1  71071328.0  ...         invalid\n",
              "2  72643452.0  ...         invalid\n",
              "3  53034422.0  ...         invalid\n",
              "6  75029007.0  ...         invalid\n",
              "\n",
              "[5 rows x 7 columns]"
            ]
          },
          "metadata": {},
          "execution_count": 10
        }
      ]
    },
    {
      "cell_type": "code",
      "metadata": {
        "colab": {
          "base_uri": "https://localhost:8080/"
        },
        "id": "bYIFwImk3RAA",
        "outputId": "831cdf87-bf5f-4542-c91b-44a9bc9a2278"
      },
      "source": [
        "group_invalid_data = data_invalid.groupby('ObsoleteType').size()\n",
        "group_data_dictionary = dict(group_invalid_data)\n",
        "group_data_dictionary"
      ],
      "execution_count": 11,
      "outputs": [
        {
          "output_type": "execute_result",
          "data": {
            "text/plain": [
              "{'ext': 52,\n",
              " 'ext/ref': 1,\n",
              " 'lang': 36,\n",
              " 'mobile': 15,\n",
              " 'mobile/ext': 2,\n",
              " 'mobile/tool': 1,\n",
              " 'os': 4,\n",
              " 'os/tool': 1,\n",
              " 'protocol': 6,\n",
              " 'ref': 60,\n",
              " 'ref/ext': 1,\n",
              " 'ref/lang': 1,\n",
              " 'tool': 33,\n",
              " 'tool/ref': 2}"
            ]
          },
          "metadata": {},
          "execution_count": 11
        }
      ]
    },
    {
      "cell_type": "code",
      "metadata": {
        "colab": {
          "base_uri": "https://localhost:8080/"
        },
        "id": "N3UXTzx13Y60",
        "outputId": "f74608ab-88b2-4cc1-88fe-64d483d0f3e2"
      },
      "source": [
        "group_data_final_dictionary = {}\n",
        "for key, value in group_data_dictionary.items():\n",
        "    if '/' not in key:\n",
        "        group_data_final_dictionary[key] = value\n",
        "        \n",
        "\n",
        "group_data_final_dictionary  "
      ],
      "execution_count": 12,
      "outputs": [
        {
          "output_type": "execute_result",
          "data": {
            "text/plain": [
              "{'ext': 52,\n",
              " 'lang': 36,\n",
              " 'mobile': 15,\n",
              " 'os': 4,\n",
              " 'protocol': 6,\n",
              " 'ref': 60,\n",
              " 'tool': 33}"
            ]
          },
          "metadata": {},
          "execution_count": 12
        }
      ]
    },
    {
      "cell_type": "code",
      "metadata": {
        "colab": {
          "base_uri": "https://localhost:8080/"
        },
        "id": "_IYI7Zfu3bBt",
        "outputId": "30ad9052-ac50-4a5a-f150-797fec32181f"
      },
      "source": [
        "data_invalid_names = list(group_data_final_dictionary.keys())\n",
        "data_invalid_values = list(group_data_final_dictionary.values())\n",
        "print(data_invalid_names)\n",
        "print(data_invalid_values)"
      ],
      "execution_count": 13,
      "outputs": [
        {
          "output_type": "stream",
          "text": [
            "['ext', 'lang', 'mobile', 'os', 'protocol', 'ref', 'tool']\n",
            "[52, 36, 15, 4, 6, 60, 33]\n"
          ],
          "name": "stdout"
        }
      ]
    },
    {
      "cell_type": "markdown",
      "metadata": {
        "id": "IxGZQbNs3f-P"
      },
      "source": [
        "# This section is for invalid"
      ]
    },
    {
      "cell_type": "code",
      "metadata": {
        "colab": {
          "base_uri": "https://localhost:8080/",
          "height": 203
        },
        "id": "kEZn2juD3dV8",
        "outputId": "01f4a616-d823-43ba-eb3c-93ee32162d0b"
      },
      "source": [
        "data_legacy.head()"
      ],
      "execution_count": 14,
      "outputs": [
        {
          "output_type": "execute_result",
          "data": {
            "text/html": [
              "<div>\n",
              "<style scoped>\n",
              "    .dataframe tbody tr th:only-of-type {\n",
              "        vertical-align: middle;\n",
              "    }\n",
              "\n",
              "    .dataframe tbody tr th {\n",
              "        vertical-align: top;\n",
              "    }\n",
              "\n",
              "    .dataframe thead th {\n",
              "        text-align: right;\n",
              "    }\n",
              "</style>\n",
              "<table border=\"1\" class=\"dataframe\">\n",
              "  <thead>\n",
              "    <tr style=\"text-align: right;\">\n",
              "      <th></th>\n",
              "      <th>CommentID</th>\n",
              "      <th>text</th>\n",
              "      <th>CommentUserID</th>\n",
              "      <th>CommentDate</th>\n",
              "      <th>Keyword</th>\n",
              "      <th>ObsoleteType</th>\n",
              "      <th>LegacyOrInvalid</th>\n",
              "    </tr>\n",
              "  </thead>\n",
              "  <tbody>\n",
              "    <tr>\n",
              "      <th>4</th>\n",
              "      <td>25828876.0</td>\n",
              "      <td>Old and obsolete method, unreliable also. @mkd...</td>\n",
              "      <td>693806.0</td>\n",
              "      <td>7/18/2013 10:24</td>\n",
              "      <td>obsolete</td>\n",
              "      <td>lang</td>\n",
              "      <td>legacy</td>\n",
              "    </tr>\n",
              "    <tr>\n",
              "      <th>5</th>\n",
              "      <td>23142158.0</td>\n",
              "      <td>*\"I thought ISO committee is smart enough to i...</td>\n",
              "      <td>743214.0</td>\n",
              "      <td>4/24/2013 9:04</td>\n",
              "      <td>obsolete</td>\n",
              "      <td>lang</td>\n",
              "      <td>legacy</td>\n",
              "    </tr>\n",
              "    <tr>\n",
              "      <th>7</th>\n",
              "      <td>4561624.0</td>\n",
              "      <td>Cool, didn't know about that. Makes my answer ...</td>\n",
              "      <td>381179.0</td>\n",
              "      <td>11/18/2010 16:08</td>\n",
              "      <td>obsolete</td>\n",
              "      <td>tool</td>\n",
              "      <td>legacy</td>\n",
              "    </tr>\n",
              "    <tr>\n",
              "      <th>9</th>\n",
              "      <td>59096987.0</td>\n",
              "      <td>For those using newer versions of .NET, you ha...</td>\n",
              "      <td>3330452.0</td>\n",
              "      <td>2/29/2016 21:33</td>\n",
              "      <td>obsolete</td>\n",
              "      <td>lang</td>\n",
              "      <td>legacy</td>\n",
              "    </tr>\n",
              "    <tr>\n",
              "      <th>12</th>\n",
              "      <td>46887979.0</td>\n",
              "      <td>According to the [W3C](https://www.w3.org/wiki...</td>\n",
              "      <td>NaN</td>\n",
              "      <td>NaN</td>\n",
              "      <td>obsolete</td>\n",
              "      <td>ref</td>\n",
              "      <td>legacy</td>\n",
              "    </tr>\n",
              "  </tbody>\n",
              "</table>\n",
              "</div>"
            ],
            "text/plain": [
              "     CommentID  ... LegacyOrInvalid\n",
              "4   25828876.0  ...          legacy\n",
              "5   23142158.0  ...          legacy\n",
              "7    4561624.0  ...          legacy\n",
              "9   59096987.0  ...          legacy\n",
              "12  46887979.0  ...          legacy\n",
              "\n",
              "[5 rows x 7 columns]"
            ]
          },
          "metadata": {},
          "execution_count": 14
        }
      ]
    },
    {
      "cell_type": "code",
      "metadata": {
        "colab": {
          "base_uri": "https://localhost:8080/"
        },
        "id": "BZEmEgMr3id-",
        "outputId": "13c9b120-7c58-47c0-84ec-8035d0acac4d"
      },
      "source": [
        "group_data_legacy = data_legacy.groupby('ObsoleteType').size()\n",
        "group_data_legacy_dictionary = dict(group_data_legacy)\n",
        "group_data_legacy_dictionary"
      ],
      "execution_count": 15,
      "outputs": [
        {
          "output_type": "execute_result",
          "data": {
            "text/plain": [
              "{'ext': 121,\n",
              " 'lang': 132,\n",
              " 'lang/mobile': 2,\n",
              " 'mobile': 33,\n",
              " 'mobile/ext': 8,\n",
              " 'mobile/lang': 4,\n",
              " 'mobile/tool': 1,\n",
              " 'os': 9,\n",
              " 'os/tool': 1,\n",
              " 'ref': 22,\n",
              " 'ref/mobile/ext': 1,\n",
              " 'tool': 34,\n",
              " 'tool/mobile': 2,\n",
              " 'tool/os': 1}"
            ]
          },
          "metadata": {},
          "execution_count": 15
        }
      ]
    },
    {
      "cell_type": "code",
      "metadata": {
        "colab": {
          "base_uri": "https://localhost:8080/"
        },
        "id": "0XP4dWRo3kvl",
        "outputId": "b632c73b-d553-4238-dc34-66cb625b8a28"
      },
      "source": [
        "group_data_legacy_final_dictionary = {}\n",
        "for key, value in group_data_legacy_dictionary.items():\n",
        "    if '/' not in key:\n",
        "        group_data_legacy_final_dictionary[key] = value\n",
        "        \n",
        "\n",
        "group_data_legacy_final_dictionary "
      ],
      "execution_count": 16,
      "outputs": [
        {
          "output_type": "execute_result",
          "data": {
            "text/plain": [
              "{'ext': 121, 'lang': 132, 'mobile': 33, 'os': 9, 'ref': 22, 'tool': 34}"
            ]
          },
          "metadata": {},
          "execution_count": 16
        }
      ]
    },
    {
      "cell_type": "code",
      "metadata": {
        "colab": {
          "base_uri": "https://localhost:8080/"
        },
        "id": "5MqTwcQ83nGx",
        "outputId": "36aca8b7-1db5-40da-fc93-a3815046ddbf"
      },
      "source": [
        "data_legacy_names = list(group_data_legacy_final_dictionary.keys())\n",
        "data_legacy_values = list(group_data_legacy_final_dictionary.values())\n",
        "print(data_legacy_names)\n",
        "print(data_legacy_values)"
      ],
      "execution_count": 17,
      "outputs": [
        {
          "output_type": "stream",
          "text": [
            "['ext', 'lang', 'mobile', 'os', 'ref', 'tool']\n",
            "[121, 132, 33, 9, 22, 34]\n"
          ],
          "name": "stdout"
        }
      ]
    },
    {
      "cell_type": "code",
      "metadata": {
        "colab": {
          "base_uri": "https://localhost:8080/"
        },
        "id": "xiln7A4i3rKa",
        "outputId": "57abb296-dd32-40ba-edba-5438b4af0224"
      },
      "source": [
        "# insert protocol because it is 0\n",
        "data_legacy_names.insert(4,'protocol')\n",
        "data_legacy_values.insert(4,0)\n",
        "print(data_legacy_names)\n",
        "print(data_legacy_values)"
      ],
      "execution_count": 18,
      "outputs": [
        {
          "output_type": "stream",
          "text": [
            "['ext', 'lang', 'mobile', 'os', 'protocol', 'ref', 'tool']\n",
            "[121, 132, 33, 9, 0, 22, 34]\n"
          ],
          "name": "stdout"
        }
      ]
    },
    {
      "cell_type": "markdown",
      "metadata": {
        "id": "R3AgFDFl3vxM"
      },
      "source": [
        "# Ploting the graph for RQ3"
      ]
    },
    {
      "cell_type": "code",
      "metadata": {
        "colab": {
          "base_uri": "https://localhost:8080/",
          "height": 418
        },
        "id": "lpRwXzx03tX7",
        "outputId": "6886fa6f-64e0-477e-91d0-0c946ec82241"
      },
      "source": [
        "x_label = ['Third Party Library','Programming Language','Mobile OS','Non-mobile OS','Protocol','Reference','Tool']\n",
        "fig = plt.figure()\n",
        "thick = 0.50\n",
        "ax = fig.add_axes([0,0,1,1])\n",
        "plt.xticks(rotation=45)\n",
        "plt.grid()\n",
        "pps = ax.bar(x_label,data_legacy_values)\n",
        "ax.bar(x_label,data_invalid_values,thick)\n",
        "for p in pps:\n",
        "  height = p.get_height()\n",
        "  height1 = height * 100 / 351\n",
        "\n",
        "  height2 = '('+str(height)+')'\n",
        "  text = \"{:} {:.1f}%\".format(height2,height1)\n",
        "  ax.text(p.get_x(),height,text,ha='left', va='bottom')\n",
        "ax.legend({'Legacy','Invalid'})\n",
        "plt.show()\n"
      ],
      "execution_count": 19,
      "outputs": [
        {
          "output_type": "display_data",
          "data": {
            "image/png": "[encoded data removed]",
            "text/plain": [
              "<Figure size 432x288 with 1 Axes>"
            ]
          },
          "metadata": {
            "needs_background": "light"
          }
        }
      ]
    }
  ]
}